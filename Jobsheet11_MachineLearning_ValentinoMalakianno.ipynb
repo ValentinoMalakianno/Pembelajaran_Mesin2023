{
  "nbformat": 4,
  "nbformat_minor": 0,
  "metadata": {
    "colab": {
      "provenance": [],
      "gpuType": "T4",
      "authorship_tag": "ABX9TyMXLtpmRKszuk49Z0f/ErOb",
      "include_colab_link": true
    },
    "kernelspec": {
      "name": "python3",
      "display_name": "Python 3"
    },
    "language_info": {
      "name": "python"
    },
    "accelerator": "GPU"
  },
  "cells": [
    {
      "cell_type": "markdown",
      "metadata": {
        "id": "view-in-github",
        "colab_type": "text"
      },
      "source": [
        "<a href=\"https://colab.research.google.com/github/ValentinoMalakianno/Pembelajaran_Mesin2023/blob/main/Jobsheet11_MachineLearning_ValentinoMalakianno.ipynb\" target=\"_parent\"><img src=\"https://colab.research.google.com/assets/colab-badge.svg\" alt=\"Open In Colab\"/></a>"
      ]
    },
    {
      "cell_type": "markdown",
      "source": [
        "###**Valentino Malakianno**\n",
        "###**3G**\n",
        "###**2141720099**\n",
        "###**Link Github :**"
      ],
      "metadata": {
        "id": "bdvjyk4rdRCy"
      }
    },
    {
      "cell_type": "markdown",
      "source": [
        "**Job Sheet 11: Convolutional Neural Network (CNN)**"
      ],
      "metadata": {
        "id": "aRCnp_3PeimN"
      }
    },
    {
      "cell_type": "markdown",
      "source": [
        "**Praktikum 1**\n",
        "\n",
        "Klasifikasi 🐱 dan 🐶\n",
        "\n",
        "Langkah 1 - Import Library\n",
        "\n"
      ],
      "metadata": {
        "id": "nKryoBZaeoLx"
      }
    },
    {
      "cell_type": "code",
      "execution_count": 1,
      "metadata": {
        "id": "ADqzXiOMcTJY"
      },
      "outputs": [],
      "source": [
        "import tensorflow as tf\n",
        "from keras.preprocessing.image import ImageDataGenerator"
      ]
    },
    {
      "cell_type": "markdown",
      "source": [
        "Langkah 2 - Pra Pengolahan Data\n",
        "\n",
        "Pada tahap ini kita akan sedikit melakukan manipulasi pada citra yang digunakan. Manipulasi yang dilakukan diantaranya adalah normalisasi nilai piksel, koreksi kemiringan, pembesaran (zoom), dan flip.\n",
        "\n",
        "Langkah 2.1. Pra Pengolahan Data Training"
      ],
      "metadata": {
        "id": "ljbAXsC4fJei"
      }
    },
    {
      "cell_type": "code",
      "source": [
        "from google.colab import drive\n",
        "drive.mount('/content/drive')"
      ],
      "metadata": {
        "id": "9_RSW0yNfKxE",
        "outputId": "02ae5708-a8e9-498c-ad90-1ab9abf3bdd8",
        "colab": {
          "base_uri": "https://localhost:8080/"
        }
      },
      "execution_count": 2,
      "outputs": [
        {
          "output_type": "stream",
          "name": "stdout",
          "text": [
            "Mounted at /content/drive\n"
          ]
        }
      ]
    }
  ]
}