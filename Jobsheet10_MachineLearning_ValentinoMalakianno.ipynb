{
  "nbformat": 4,
  "nbformat_minor": 0,
  "metadata": {
    "colab": {
      "provenance": [],
      "authorship_tag": "ABX9TyNtlYYdLFRg30bJ4/2nlRGC",
      "include_colab_link": true
    },
    "kernelspec": {
      "name": "python3",
      "display_name": "Python 3"
    },
    "language_info": {
      "name": "python"
    }
  },
  "cells": [
    {
      "cell_type": "markdown",
      "metadata": {
        "id": "view-in-github",
        "colab_type": "text"
      },
      "source": [
        "<a href=\"https://colab.research.google.com/github/ValentinoMalakianno/Pembelajaran_Mesin2023/blob/main/Jobsheet10_MachineLearning_ValentinoMalakianno.ipynb\" target=\"_parent\"><img src=\"https://colab.research.google.com/assets/colab-badge.svg\" alt=\"Open In Colab\"/></a>"
      ]
    },
    {
      "cell_type": "markdown",
      "source": [
        "###**Valentino Malakianno Putra Nasima**\n",
        "###3**G**\n",
        "###**2141720099**\n",
        "###**Link Github :**\n",
        "https://github.com/ValentinoMalakianno/Pembelajaran_Mesin2023/blob/main/Jobsheet10_MachineLearning_ValentinoMalakianno.ipynb"
      ],
      "metadata": {
        "id": "ipsVrbn-7gz0"
      }
    },
    {
      "cell_type": "markdown",
      "source": [
        "**Job Sheet 10 : Recurrent Neural Network (RNN)**"
      ],
      "metadata": {
        "id": "fJvKPno37t4z"
      }
    },
    {
      "cell_type": "markdown",
      "source": [
        "RNN untuk Analisis Sentimen\n",
        "\n",
        "Setup\n",
        "\n",
        "Impor matplotlib dan buat fungsi pembantu untuk memplot grafik:"
      ],
      "metadata": {
        "id": "hh8otj3M72-T"
      }
    },
    {
      "cell_type": "code",
      "source": [
        "import numpy as np\n",
        "import tensorflow_datasets as tfds\n",
        "import tensorflow as tf\n",
        "\n",
        "tfds.disable_progress_bar()"
      ],
      "metadata": {
        "id": "zwsDHnYh7687"
      },
      "execution_count": 1,
      "outputs": []
    },
    {
      "cell_type": "code",
      "source": [
        "import matplotlib.pyplot as plt\n",
        "\n",
        "def plot_graphs(history, metric):\n",
        "  plt.plot(history.history[metric])\n",
        "  plt.plot(history.history['val_'+metric], '')\n",
        "  plt.xlabel(\"Epochs\")\n",
        "  plt.ylabel(metric)\n",
        "  plt.legend([metric, 'val_'+metric])"
      ],
      "metadata": {
        "id": "jr3U6IkD8GJb"
      },
      "execution_count": 2,
      "outputs": []
    },
    {
      "cell_type": "markdown",
      "source": [
        "Setup input pipeline\n",
        "\n",
        "Dataset ulasan film IMDB adalah kumpulan data klasifikasi biner—semua ulasan memiliki sentimen positif atau negatif."
      ],
      "metadata": {
        "id": "mXIeh-NJ8ZbT"
      }
    },
    {
      "cell_type": "code",
      "source": [
        "dataset, info = tfds.load('imdb_reviews', with_info=True,\n",
        "                          as_supervised=True)\n",
        "train_dataset, test_dataset = dataset['train'], dataset['test']\n",
        "\n",
        "train_dataset.element_spec"
      ],
      "metadata": {
        "id": "_tL8iUNJ8atk",
        "outputId": "9e8acec4-4134-48b4-e871-34f8e8cb3e5e",
        "colab": {
          "base_uri": "https://localhost:8080/",
          "height": 0
        }
      },
      "execution_count": 3,
      "outputs": [
        {
          "output_type": "stream",
          "name": "stdout",
          "text": [
            "Downloading and preparing dataset 80.23 MiB (download: 80.23 MiB, generated: Unknown size, total: 80.23 MiB) to /root/tensorflow_datasets/imdb_reviews/plain_text/1.0.0...\n",
            "Dataset imdb_reviews downloaded and prepared to /root/tensorflow_datasets/imdb_reviews/plain_text/1.0.0. Subsequent calls will reuse this data.\n"
          ]
        },
        {
          "output_type": "execute_result",
          "data": {
            "text/plain": [
              "(TensorSpec(shape=(), dtype=tf.string, name=None),\n",
              " TensorSpec(shape=(), dtype=tf.int64, name=None))"
            ]
          },
          "metadata": {},
          "execution_count": 3
        }
      ]
    },
    {
      "cell_type": "markdown",
      "source": [
        "Awalnya ini mengembalikan dataset (teks, pasangan label):"
      ],
      "metadata": {
        "id": "j9ak2f718ki0"
      }
    },
    {
      "cell_type": "code",
      "source": [
        "for example, label in train_dataset.take(1):\n",
        "  print('text: ', example.numpy())\n",
        "  print('label: ', label.numpy())"
      ],
      "metadata": {
        "id": "eQfTHdcO8z90",
        "outputId": "6c293ee5-a55e-462c-a322-89d66aa82f47",
        "colab": {
          "base_uri": "https://localhost:8080/",
          "height": 0
        }
      },
      "execution_count": 4,
      "outputs": [
        {
          "output_type": "stream",
          "name": "stdout",
          "text": [
            "text:  b\"This was an absolutely terrible movie. Don't be lured in by Christopher Walken or Michael Ironside. Both are great actors, but this must simply be their worst role in history. Even their great acting could not redeem this movie's ridiculous storyline. This movie is an early nineties US propaganda piece. The most pathetic scenes were those when the Columbian rebels were making their cases for revolutions. Maria Conchita Alonso appeared phony, and her pseudo-love affair with Walken was nothing but a pathetic emotional plug in a movie that was devoid of any real meaning. I am disappointed that there are movies like this, ruining actor's like Christopher Walken's good name. I could barely sit through it.\"\n",
            "label:  0\n"
          ]
        }
      ]
    },
    {
      "cell_type": "markdown",
      "source": [
        "Berikutnya acak data untuk pelatihan dan membuat kumpulan pasangan (teks, label) ini:"
      ],
      "metadata": {
        "id": "6tLSct7k84ao"
      }
    },
    {
      "cell_type": "code",
      "source": [
        "BUFFER_SIZE = 10000\n",
        "BATCH_SIZE = 64\n",
        "\n",
        "train_dataset = train_dataset.shuffle(BUFFER_SIZE).batch(BATCH_SIZE).prefetch(tf.data.AUTOTUNE)\n",
        "test_dataset = test_dataset.batch(BATCH_SIZE).prefetch(tf.data.AUTOTUNE)\n",
        "\n",
        "for example, label in train_dataset.take(1):\n",
        "  print('texts: ', example.numpy()[:3])\n",
        "  print()\n",
        "  print('labels: ', label.numpy()[:3])"
      ],
      "metadata": {
        "id": "8d92zthZ85T8",
        "outputId": "80bd0f8a-cb75-49b9-e506-da0613a99170",
        "colab": {
          "base_uri": "https://localhost:8080/",
          "height": 0
        }
      },
      "execution_count": 5,
      "outputs": [
        {
          "output_type": "stream",
          "name": "stdout",
          "text": [
            "texts:  [b'dear god where do i begin. this is bar none the best movie i\\'ve ever seen. the camera angles are great but in my opinion the acting was the best. why the script writers for this movie aren\\'t writing big budget films i will never understand. another is the cast. it is great. this is the best ted raimi film out there for sure. i know some of you out there are probably thinking \"no way he has plenty better\" but no your wrong. raptor island is a work of art. i hope it should have goten best movie of the year instead of that crappy movie Crash with a bunch of no names AND no raptors. i believe this movie is truly the most wonderful thing EVER.'\n",
            " b\"Cute and playful, but lame and cheap. 'Munchies' is another Gremlins clone to come out from the 80s. I'm not much of a fan of the imitations.<br /><br />First it was the excellent 'Gremlins'.<br /><br />Then came the very average 'Critters'.<br /><br />Lets not forget the lousy 'Ghoulies'.<br /><br />But the complete pits would have to go to 'Hobgoblins'.<br /><br />Is there more?? <br /><br />Now 'Munchies' for me would have to fall somewhere between 'Ghoulies' and 'Hobgoblins'. Actually I probably found it more entertaining than 'Ghoulies', but I preferred thst one's darker tone. <br /><br />From the get-go it plays up its goofy nature (which it's better for it), but due to that nature the hammy acting (Alix Elias and Charlie Phillips), can get rather overbearing that you rather just see the munchies running amok. That's where the fun occurs. Mostly light-hearted fluff though, as the story mainly centres on the munchies (who are either hungry, horny and destructive) in a whole bunch of supposed comical encounters (some moments do work) in the small desert town as a couple of people are on the chase. It's silly, but strangely engaging thanks to the zippy pacing. The creatures themselves look rather bland and poorly detailed, as they're basic dolls being chucked about. Where their personalities arrived from is that they can actually speak... and with attitude.<br /><br />Charlie Stratton and a feisty Nadine Van der Velde (who was in 'Critters') were fair leads. Harvey Korman was acceptable in two roles. Robert Picardo also pops up.<br /><br />Amusingly low-cut entertainment for the undemanding.\"\n",
            " b'Forget depth of meaning, leave your logic at the door, and have a great time with this maniacally funny, totally absurdist, ultra-campy live-action \"cartoon\". MYSTERY MEN is a send-up of every superhero flick you\\'ve ever seen, but its unlikely super-wannabes are so interesting, varied, and well-cast that they are memorable characters in their own right. Dark humor, downright silliness, bona fide action, and even a touching moment or two, combine to make this comic fantasy about lovable losers a true winner. The comedic talents of the actors playing the Mystery Men -- including one Mystery Woman -- are a perfect foil for Wes Studi as what can only be described as a bargain-basement Yoda, and Geoffrey Rush as one of the most off-the-wall (and bizarrely charming) villains ever to walk off the pages of a Dark Horse comic book and onto the big screen. Get ready to laugh, cheer, and say \"huh?\" more than once.... enjoy!']\n",
            "\n",
            "labels:  [1 0 1]\n"
          ]
        }
      ]
    },
    {
      "cell_type": "markdown",
      "source": [
        "**Buat Teks Encoder**"
      ],
      "metadata": {
        "id": "7GDTDrfk9AkM"
      }
    },
    {
      "cell_type": "markdown",
      "source": [
        "Teks mentah yang dimuat oleh tfds perlu diproses sebelum dapat digunakan dalam model. Cara termudah memproses teks untuk pelatihan adalah menggunakan lapisan TextVectorization. Lapisan ini memiliki banyak kemampuan, namun pada tutorial ini menggunakan perilaku default. Buat lapisan tersebut, dan teruskan teks kumpulan data ke metode .adapt lapisan:"
      ],
      "metadata": {
        "id": "uMU4tpsS9Eql"
      }
    },
    {
      "cell_type": "code",
      "source": [
        "VOCAB_SIZE = 1000\n",
        "encoder = tf.keras.layers.TextVectorization(\n",
        "    max_tokens=VOCAB_SIZE)\n",
        "encoder.adapt(train_dataset.map(lambda text, label: text))"
      ],
      "metadata": {
        "id": "LYeF4h2c9CT8"
      },
      "execution_count": 6,
      "outputs": []
    },
    {
      "cell_type": "markdown",
      "source": [
        "Metode .adapt mengatur kosakata lapisan. 20 token pertama dapat dilihat dengan kode berikut. Setelah padding dan token yang tidak diketahui, mereka diurutkan berdasarkan frekuensi:"
      ],
      "metadata": {
        "id": "ieeQ-O-U9JSM"
      }
    },
    {
      "cell_type": "code",
      "source": [
        "vocab = np.array(encoder.get_vocabulary())\n",
        "vocab[:20]\n"
      ],
      "metadata": {
        "id": "eoBaa5PA9Ls0",
        "outputId": "ca5f5671-6928-4046-ea53-af3f0a5d1a25",
        "colab": {
          "base_uri": "https://localhost:8080/",
          "height": 0
        }
      },
      "execution_count": 7,
      "outputs": [
        {
          "output_type": "execute_result",
          "data": {
            "text/plain": [
              "array(['', '[UNK]', 'the', 'and', 'a', 'of', 'to', 'is', 'in', 'it', 'i',\n",
              "       'this', 'that', 'br', 'was', 'as', 'for', 'with', 'movie', 'but'],\n",
              "      dtype='<U14')"
            ]
          },
          "metadata": {},
          "execution_count": 7
        }
      ]
    },
    {
      "cell_type": "markdown",
      "source": [
        "Setelah kosakata diatur, lapisan dapat mengkodekan teks ke dalam indeks. Tensor indeks diberi bantalan 0 ke urutan terpanjang dalam batch (kecuali jika Anda menetapkan output_sequence_length tetap):"
      ],
      "metadata": {
        "id": "74zHbGuL9QgM"
      }
    },
    {
      "cell_type": "code",
      "source": [
        "encoded_example = encoder(example)[:3].numpy()\n",
        "encoded_example"
      ],
      "metadata": {
        "id": "8tuiZeOQ9RXD",
        "outputId": "9d209cf7-6245-4734-9237-f3bc0d371d72",
        "colab": {
          "base_uri": "https://localhost:8080/",
          "height": 0
        }
      },
      "execution_count": 8,
      "outputs": [
        {
          "output_type": "execute_result",
          "data": {
            "text/plain": [
              "array([[  1, 590, 113, ...,   0,   0,   0],\n",
              "       [  1,   3,   1, ...,   0,   0,   0],\n",
              "       [835,   1,   5, ...,   0,   0,   0]])"
            ]
          },
          "metadata": {},
          "execution_count": 8
        }
      ]
    },
    {
      "cell_type": "markdown",
      "source": [
        "Dengan pengaturan default, prosesnya tidak dapat dibalik sepenuhnya. Ada dua alasan utama untuk itu: -Nilai default untuk argumen standarisasi preprocessing.TextVectorization adalah \"lower_and_strip_punctuation\". -Ukuran kosa kata yang terbatas dan kurangnya fallback berbasis karakter menghasilkan beberapa token yang tidak diketahui."
      ],
      "metadata": {
        "id": "tvp7ik1Q9VK0"
      }
    },
    {
      "cell_type": "code",
      "source": [
        "for n in range(3):\n",
        "  print(\"Original: \", example[n].numpy())\n",
        "  print(\"Round-trip: \", \" \".join(vocab[encoded_example[n]]))\n",
        "  print()"
      ],
      "metadata": {
        "id": "B5mqV9Ct9WFr",
        "outputId": "119aeb7b-a418-41fd-b95b-5b1c93b53b23",
        "colab": {
          "base_uri": "https://localhost:8080/",
          "height": 0
        }
      },
      "execution_count": 9,
      "outputs": [
        {
          "output_type": "stream",
          "name": "stdout",
          "text": [
            "Original:  b'dear god where do i begin. this is bar none the best movie i\\'ve ever seen. the camera angles are great but in my opinion the acting was the best. why the script writers for this movie aren\\'t writing big budget films i will never understand. another is the cast. it is great. this is the best ted raimi film out there for sure. i know some of you out there are probably thinking \"no way he has plenty better\" but no your wrong. raptor island is a work of art. i hope it should have goten best movie of the year instead of that crappy movie Crash with a bunch of no names AND no raptors. i believe this movie is truly the most wonderful thing EVER.'\n",
            "Round-trip:  [UNK] god where do i begin this is [UNK] none the best movie ive ever seen the camera [UNK] are great but in my opinion the acting was the best why the script writers for this movie arent writing big budget films i will never understand another is the cast it is great this is the best [UNK] [UNK] film out there for sure i know some of you out there are probably thinking no way he has plenty better but no your wrong [UNK] [UNK] is a work of art i hope it should have [UNK] best movie of the year instead of that [UNK] movie [UNK] with a bunch of no [UNK] and no [UNK] i believe this movie is truly the most wonderful thing ever                                                                                                                                                                                                                                                                                                                                                                                                                                                                                                                                                                                                                                                                                               \n",
            "\n",
            "Original:  b\"Cute and playful, but lame and cheap. 'Munchies' is another Gremlins clone to come out from the 80s. I'm not much of a fan of the imitations.<br /><br />First it was the excellent 'Gremlins'.<br /><br />Then came the very average 'Critters'.<br /><br />Lets not forget the lousy 'Ghoulies'.<br /><br />But the complete pits would have to go to 'Hobgoblins'.<br /><br />Is there more?? <br /><br />Now 'Munchies' for me would have to fall somewhere between 'Ghoulies' and 'Hobgoblins'. Actually I probably found it more entertaining than 'Ghoulies', but I preferred thst one's darker tone. <br /><br />From the get-go it plays up its goofy nature (which it's better for it), but due to that nature the hammy acting (Alix Elias and Charlie Phillips), can get rather overbearing that you rather just see the munchies running amok. That's where the fun occurs. Mostly light-hearted fluff though, as the story mainly centres on the munchies (who are either hungry, horny and destructive) in a whole bunch of supposed comical encounters (some moments do work) in the small desert town as a couple of people are on the chase. It's silly, but strangely engaging thanks to the zippy pacing. The creatures themselves look rather bland and poorly detailed, as they're basic dolls being chucked about. Where their personalities arrived from is that they can actually speak... and with attitude.<br /><br />Charlie Stratton and a feisty Nadine Van der Velde (who was in 'Critters') were fair leads. Harvey Korman was acceptable in two roles. Robert Picardo also pops up.<br /><br />Amusingly low-cut entertainment for the undemanding.\"\n",
            "Round-trip:  [UNK] and [UNK] but lame and cheap [UNK] is another [UNK] [UNK] to come out from the 80s im not much of a fan of the [UNK] br first it was the excellent [UNK] br then came the very average [UNK] br lets not forget the [UNK] [UNK] br but the complete [UNK] would have to go to [UNK] br is there more br br now [UNK] for me would have to fall [UNK] between [UNK] and [UNK] actually i probably found it more entertaining than [UNK] but i [UNK] [UNK] ones [UNK] [UNK] br br from the [UNK] it plays up its [UNK] nature which its better for it but due to that nature the [UNK] acting [UNK] [UNK] and [UNK] [UNK] can get rather [UNK] that you rather just see the [UNK] running [UNK] thats where the fun [UNK] mostly [UNK] [UNK] though as the story [UNK] [UNK] on the [UNK] who are either [UNK] [UNK] and [UNK] in a whole bunch of supposed [UNK] [UNK] some moments do work in the small [UNK] town as a couple of people are on the [UNK] its silly but [UNK] [UNK] [UNK] to the [UNK] [UNK] the [UNK] themselves look rather [UNK] and poorly [UNK] as theyre [UNK] [UNK] being [UNK] about where their [UNK] [UNK] from is that they can actually [UNK] and with [UNK] br [UNK] [UNK] and a [UNK] [UNK] [UNK] [UNK] [UNK] who was in [UNK] were [UNK] leads [UNK] [UNK] was [UNK] in two roles robert [UNK] also [UNK] [UNK] br [UNK] [UNK] entertainment for the [UNK]                                                                                                                                                                                                                                                                                                                                                                                                                                                                                                                                                         \n",
            "\n",
            "Original:  b'Forget depth of meaning, leave your logic at the door, and have a great time with this maniacally funny, totally absurdist, ultra-campy live-action \"cartoon\". MYSTERY MEN is a send-up of every superhero flick you\\'ve ever seen, but its unlikely super-wannabes are so interesting, varied, and well-cast that they are memorable characters in their own right. Dark humor, downright silliness, bona fide action, and even a touching moment or two, combine to make this comic fantasy about lovable losers a true winner. The comedic talents of the actors playing the Mystery Men -- including one Mystery Woman -- are a perfect foil for Wes Studi as what can only be described as a bargain-basement Yoda, and Geoffrey Rush as one of the most off-the-wall (and bizarrely charming) villains ever to walk off the pages of a Dark Horse comic book and onto the big screen. Get ready to laugh, cheer, and say \"huh?\" more than once.... enjoy!'\n",
            "Round-trip:  forget [UNK] of [UNK] leave your [UNK] at the [UNK] and have a great time with this [UNK] funny totally [UNK] [UNK] [UNK] [UNK] mystery men is a [UNK] of every [UNK] flick youve ever seen but its [UNK] [UNK] are so interesting [UNK] and [UNK] that they are memorable characters in their own right dark humor [UNK] [UNK] [UNK] [UNK] action and even a [UNK] moment or two [UNK] to make this comic fantasy about [UNK] [UNK] a true [UNK] the [UNK] [UNK] of the actors playing the mystery men including one mystery woman are a perfect [UNK] for [UNK] [UNK] as what can only be [UNK] as a [UNK] [UNK] and [UNK] [UNK] as one of the most [UNK] and [UNK] [UNK] [UNK] ever to [UNK] off the [UNK] of a dark [UNK] comic book and [UNK] the big screen get [UNK] to laugh [UNK] and say [UNK] more than once enjoy                                                                                                                                                                                                                                                                                                                                                                                                                                                                                                                                                                                                                                                                     \n",
            "\n"
          ]
        }
      ]
    },
    {
      "cell_type": "markdown",
      "source": [
        "**Buat Model**"
      ],
      "metadata": {
        "id": "3oR0VVGx9Yf7"
      }
    },
    {
      "cell_type": "markdown",
      "source": [
        "![image.png](data:image/png;base64,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)"
      ],
      "metadata": {
        "id": "vtobzGmF9gvj"
      }
    },
    {
      "cell_type": "markdown",
      "source": [
        "diagram model dapat dilihat pada gambar diatas\n",
        "\n",
        "Model ini dapat dibuat sebagai tf.keras.Sequential.\n",
        "Lapisan pertama adalah encoder, yang mengubah teks menjadi urutan indeks token.\n",
        "Setelah encoder adalah lapisan penyematan (embedding layer). Lapisan penyematan menyimpan satu vektor per kata. Saat dipanggil, ini mengubah rangkaian indeks kata menjadi rangkaian vektor. Vektor-vektor ini dapat dilatih. Setelah pelatihan (dengan data yang cukup), kata-kata dengan arti yang mirip sering kali memiliki vektor yang serupa. Pencarian indeks ini jauh lebih efisien daripada operasi setara dengan meneruskan vektor yang disandikan one-hot melalui lapisan tf.keras.layers.Dense.\n",
        "Jaringan saraf berulang (RNN) memproses masukan urutan dengan melakukan iterasi melalui elemen. RNN meneruskan keluaran dari satu langkah waktu ke masukannya pada langkah waktu berikutnya.\n",
        "Pembungkus tf.keras.layers.Bidirection juga dapat digunakan dengan lapisan RNN. Ini menyebarkan masukan maju dan mundur melalui lapisan RNN dan kemudian menggabungkan keluaran akhir.\n",
        "\n",
        "-**Keuntungan utama RNN dua arah** adalah sinyal dari awal masukan tidak perlu diproses sepanjang waktu untuk memengaruhi keluaran.\n",
        "\n",
        "-**Kerugian utama dari RNN dua arah** adalah Anda tidak dapat melakukan streaming prediksi secara efisien saat kata-kata ditambahkan di akhir. 5. Setelah RNN mengonversi urutan menjadi satu vektor, kedua lapisan tersebut.Dense melakukan beberapa pemrosesan akhir, dan mengonversi representasi vektor ini menjadi logit tunggal sebagai keluaran klasifikasi."
      ],
      "metadata": {
        "id": "5GpK8Gf29q_L"
      }
    },
    {
      "cell_type": "code",
      "source": [
        "model = tf.keras.Sequential([\n",
        "    encoder,\n",
        "    tf.keras.layers.Embedding(\n",
        "        input_dim=len(encoder.get_vocabulary()),\n",
        "        output_dim=64,\n",
        "        # Use masking to handle the variable sequence lengths\n",
        "        mask_zero=True),\n",
        "    tf.keras.layers.Bidirectional(tf.keras.layers.LSTM(64)),\n",
        "    tf.keras.layers.Dense(64, activation='relu'),\n",
        "    tf.keras.layers.Dense(1)\n",
        "])"
      ],
      "metadata": {
        "id": "QMtNipTf9n_U"
      },
      "execution_count": 10,
      "outputs": []
    },
    {
      "cell_type": "code",
      "source": [
        "print([layer.supports_masking for layer in model.layers])"
      ],
      "metadata": {
        "id": "2rZ_nJe193eE",
        "outputId": "f03c41a5-434f-42ce-bc4b-6cc1833c8620",
        "colab": {
          "base_uri": "https://localhost:8080/",
          "height": 0
        }
      },
      "execution_count": 11,
      "outputs": [
        {
          "output_type": "stream",
          "name": "stdout",
          "text": [
            "[False, True, True, True, True]\n"
          ]
        }
      ]
    },
    {
      "cell_type": "markdown",
      "source": [
        "Untuk memastikan bahwa ini berfungsi seperti yang diharapkan, evaluasi sebuah kalimat dua kali. Pertama, satu kalimat sehingga tidak ada bantalan (padding) untuk disamarkan:"
      ],
      "metadata": {
        "id": "toFQbTIP97Jb"
      }
    },
    {
      "cell_type": "code",
      "source": [
        "# predict on a sample text without padding.\n",
        "\n",
        "sample_text = ('The movie was cool. The animation and the graphics '\n",
        "               'were out of this world. I would recommend this movie.')\n",
        "predictions = model.predict(np.array([sample_text]))\n",
        "print(predictions[0])"
      ],
      "metadata": {
        "id": "wNRP5seZ98Ic",
        "outputId": "020396fa-c2a3-428f-e15e-212278f52c33",
        "colab": {
          "base_uri": "https://localhost:8080/",
          "height": 0
        }
      },
      "execution_count": 12,
      "outputs": [
        {
          "output_type": "stream",
          "name": "stdout",
          "text": [
            "1/1 [==============================] - 3s 3s/step\n",
            "[-0.00749642]\n"
          ]
        }
      ]
    },
    {
      "cell_type": "markdown",
      "source": [
        "Sekarang, evaluasi lagi dalam batch dengan kalimat yang lebih panjang. Hasilnya harus sama:"
      ],
      "metadata": {
        "id": "4mk1hX0a-nmE"
      }
    },
    {
      "cell_type": "code",
      "source": [
        "# predict on a sample text with padding\n",
        "\n",
        "padding = \"the \" * 2000\n",
        "predictions = model.predict(np.array([sample_text, padding]))\n",
        "print(predictions[0])"
      ],
      "metadata": {
        "id": "Y3NDZeyi-orc",
        "outputId": "3f7e2e00-b16c-42a1-9b5c-085e14e08e35",
        "colab": {
          "base_uri": "https://localhost:8080/",
          "height": 0
        }
      },
      "execution_count": 13,
      "outputs": [
        {
          "output_type": "stream",
          "name": "stdout",
          "text": [
            "1/1 [==============================] - 0s 326ms/step\n",
            "[-0.00749642]\n"
          ]
        }
      ]
    },
    {
      "cell_type": "markdown",
      "source": [
        "compile model Keras untuk mengonfigurasi proses pelatihan:"
      ],
      "metadata": {
        "id": "l2lwnC7Q-tns"
      }
    },
    {
      "cell_type": "code",
      "source": [
        "model.compile(loss=tf.keras.losses.BinaryCrossentropy(from_logits=True),\n",
        "              optimizer=tf.keras.optimizers.Adam(1e-4),\n",
        "              metrics=['accuracy'])"
      ],
      "metadata": {
        "id": "vZc30ZtS-uaF"
      },
      "execution_count": 14,
      "outputs": []
    },
    {
      "cell_type": "markdown",
      "source": [
        "**Train Model**"
      ],
      "metadata": {
        "id": "hxi-9Si3AmFj"
      }
    },
    {
      "cell_type": "code",
      "source": [
        "history = model.fit(train_dataset, epochs=10,\n",
        "                    validation_data=test_dataset,\n",
        "                    validation_steps=30)"
      ],
      "metadata": {
        "id": "0V1KvH3jM11h"
      },
      "execution_count": null,
      "outputs": []
    },
    {
      "cell_type": "code",
      "source": [
        "test_loss, test_acc = model.evaluate(test_dataset)\n",
        "\n",
        "print('Test Loss:', test_loss)\n",
        "print('Test Accuracy:', test_acc)"
      ],
      "metadata": {
        "colab": {
          "base_uri": "https://localhost:8080/",
          "height": 0
        },
        "id": "L6WwSYkPNPfn",
        "outputId": "d71b4fb4-b2bc-436f-882e-a8e1c26769ec"
      },
      "execution_count": 15,
      "outputs": [
        {
          "output_type": "stream",
          "name": "stdout",
          "text": [
            "391/391 [==============================] - 143s 350ms/step - loss: 0.6934 - accuracy: 0.5000\n",
            "Test Loss: 0.6933531761169434\n",
            "Test Accuracy: 0.5\n"
          ]
        }
      ]
    },
    {
      "cell_type": "code",
      "source": [
        "plt.figure(figsize=(16, 8))\n",
        "plt.subplot(1, 2, 1)\n",
        "plot_graphs(history, 'accuracy')\n",
        "plt.ylim(None, 1)\n",
        "plt.subplot(1, 2, 2)\n",
        "plot_graphs(history, 'loss')\n",
        "plt.ylim(0, None)"
      ],
      "metadata": {
        "colab": {
          "base_uri": "https://localhost:8080/",
          "height": 910
        },
        "id": "1JYRIV2mN2by",
        "outputId": "99a981b8-5715-4680-bd88-aa7ea9169ca2"
      },
      "execution_count": 18,
      "outputs": [
        {
          "output_type": "error",
          "ename": "NameError",
          "evalue": "ignored",
          "traceback": [
            "\u001b[0;31m---------------------------------------------------------------------------\u001b[0m",
            "\u001b[0;31mNameError\u001b[0m                                 Traceback (most recent call last)",
            "\u001b[0;32m<ipython-input-18-bbddbdf6a590>\u001b[0m in \u001b[0;36m<cell line: 3>\u001b[0;34m()\u001b[0m\n\u001b[1;32m      1\u001b[0m \u001b[0mplt\u001b[0m\u001b[0;34m.\u001b[0m\u001b[0mfigure\u001b[0m\u001b[0;34m(\u001b[0m\u001b[0mfigsize\u001b[0m\u001b[0;34m=\u001b[0m\u001b[0;34m(\u001b[0m\u001b[0;36m16\u001b[0m\u001b[0;34m,\u001b[0m \u001b[0;36m8\u001b[0m\u001b[0;34m)\u001b[0m\u001b[0;34m)\u001b[0m\u001b[0;34m\u001b[0m\u001b[0;34m\u001b[0m\u001b[0m\n\u001b[1;32m      2\u001b[0m \u001b[0mplt\u001b[0m\u001b[0;34m.\u001b[0m\u001b[0msubplot\u001b[0m\u001b[0;34m(\u001b[0m\u001b[0;36m1\u001b[0m\u001b[0;34m,\u001b[0m \u001b[0;36m2\u001b[0m\u001b[0;34m,\u001b[0m \u001b[0;36m1\u001b[0m\u001b[0;34m)\u001b[0m\u001b[0;34m\u001b[0m\u001b[0;34m\u001b[0m\u001b[0m\n\u001b[0;32m----> 3\u001b[0;31m \u001b[0mplot_graphs\u001b[0m\u001b[0;34m(\u001b[0m\u001b[0mhistory\u001b[0m\u001b[0;34m,\u001b[0m \u001b[0;34m'accuracy'\u001b[0m\u001b[0;34m)\u001b[0m\u001b[0;34m\u001b[0m\u001b[0;34m\u001b[0m\u001b[0m\n\u001b[0m\u001b[1;32m      4\u001b[0m \u001b[0mplt\u001b[0m\u001b[0;34m.\u001b[0m\u001b[0mylim\u001b[0m\u001b[0;34m(\u001b[0m\u001b[0;32mNone\u001b[0m\u001b[0;34m,\u001b[0m \u001b[0;36m1\u001b[0m\u001b[0;34m)\u001b[0m\u001b[0;34m\u001b[0m\u001b[0;34m\u001b[0m\u001b[0m\n\u001b[1;32m      5\u001b[0m \u001b[0mplt\u001b[0m\u001b[0;34m.\u001b[0m\u001b[0msubplot\u001b[0m\u001b[0;34m(\u001b[0m\u001b[0;36m1\u001b[0m\u001b[0;34m,\u001b[0m \u001b[0;36m2\u001b[0m\u001b[0;34m,\u001b[0m \u001b[0;36m2\u001b[0m\u001b[0;34m)\u001b[0m\u001b[0;34m\u001b[0m\u001b[0;34m\u001b[0m\u001b[0m\n",
            "\u001b[0;31mNameError\u001b[0m: name 'history' is not defined"
          ]
        },
        {
          "output_type": "display_data",
          "data": {
            "text/plain": [
              "<Figure size 1600x800 with 1 Axes>"
            ],
            "image/png": "[encoded data removed]"
          },
          "metadata": {}
        }
      ]
    },
    {
      "cell_type": "markdown",
      "source": [
        "Jalankan prediksi pada kalimat baru:\n",
        "\n",
        "Jika prediksi >= 0,0 berarti positif, jika tidak maka negatif."
      ],
      "metadata": {
        "id": "KW8W868kERhT"
      }
    },
    {
      "cell_type": "code",
      "source": [
        "sample_text = ('The movie was cool. The animation and the graphics '\n",
        "'were out of this world. I would recommend this movie.')\n",
        "predictions = model.predict(np.array([sample_text]))"
      ],
      "metadata": {
        "colab": {
          "base_uri": "https://localhost:8080/",
          "height": 0
        },
        "id": "d_8PZ1RfONEf",
        "outputId": "f7a0bc55-cda9-4c31-f28b-5bd2decd1306"
      },
      "execution_count": 19,
      "outputs": [
        {
          "output_type": "stream",
          "name": "stdout",
          "text": [
            "1/1 [==============================] - 3s 3s/step\n"
          ]
        }
      ]
    },
    {
      "cell_type": "markdown",
      "source": [
        "**Stack two or more LSTM layers**"
      ],
      "metadata": {
        "id": "kT9IVTmWOSRH"
      }
    },
    {
      "cell_type": "code",
      "source": [
        "model = tf.keras.Sequential([\n",
        "     encoder,\n",
        "     tf.keras.layers.Embedding(len(encoder.get_vocabulary()), 64, mask_zero=True),\n",
        "     tf.keras.layers.Bidirectional(tf.keras.layers.LSTM(64, return_sequences=True)),\n",
        "     tf.keras.layers.Bidirectional(tf.keras.layers.LSTM(32)),\n",
        "     tf.keras.layers.Dense(64, activation='relu'),\n",
        "     tf.keras.layers.Dropout(0.5),\n",
        "     tf.keras.layers.Dense(1)\n",
        "])"
      ],
      "metadata": {
        "id": "y7O6_P6wOVk2"
      },
      "execution_count": 20,
      "outputs": []
    },
    {
      "cell_type": "code",
      "source": [
        "model.compile(loss=tf.keras.losses.BinaryCrossentropy(from_logits=True),\n",
        "              optimizer=tf.keras.optimizers.Adam(1e-4),\n",
        "              metrics=['accuracy'])"
      ],
      "metadata": {
        "id": "KV7nfYLhOcOv"
      },
      "execution_count": 21,
      "outputs": []
    },
    {
      "cell_type": "code",
      "source": [
        "history = model.fit(train_dataset, epochs=10, validation_data=test_dataset, validation_steps=30)"
      ],
      "metadata": {
        "id": "ASurh8pOO8FN"
      },
      "execution_count": null,
      "outputs": []
    },
    {
      "cell_type": "code",
      "source": [
        "test_loss, test_acc = model.evaluate(test_dataset)\n",
        "\n",
        "print('Test Loss:', test_loss)\n",
        "print('Test Accuracy:', test_acc)"
      ],
      "metadata": {
        "colab": {
          "base_uri": "https://localhost:8080/",
          "height": 0
        },
        "id": "saHhoSf5O-O-",
        "outputId": "447aff99-2126-403e-95fa-5196a628a84e"
      },
      "execution_count": 23,
      "outputs": [
        {
          "output_type": "stream",
          "name": "stdout",
          "text": [
            "391/391 [==============================] - 275s 689ms/step - loss: 0.6931 - accuracy: 0.5000\n",
            "Test Loss: 0.6931032538414001\n",
            "Test Accuracy: 0.5\n"
          ]
        }
      ]
    },
    {
      "cell_type": "code",
      "source": [
        "# predict on a sample text without padding.\n",
        "\n",
        "sample_text = ('The movie was not good. The animation and the graphics '\n",
        "'were terrible. I would not recommend this movie.')\n",
        "predictions = model.predict(np.array([sample_text]))\n",
        "print(predictions)"
      ],
      "metadata": {
        "colab": {
          "base_uri": "https://localhost:8080/",
          "height": 0
        },
        "id": "X2IFCVtkQDjn",
        "outputId": "d32c4466-b4c0-4ab9-c010-ebc42e89d12f"
      },
      "execution_count": 24,
      "outputs": [
        {
          "output_type": "stream",
          "name": "stdout",
          "text": [
            "1/1 [==============================] - 7s 7s/step\n",
            "[[-0.00292815]]\n"
          ]
        }
      ]
    },
    {
      "cell_type": "code",
      "source": [
        "plt.figure(figsize=(16, 6))\n",
        "plt.subplot(1, 2, 1)\n",
        "plot_graphs(history, 'accuracy')\n",
        "plt.subplot(1, 2, 2)\n",
        "plot_graphs(history, 'loss')\n",
        ""
      ],
      "metadata": {
        "colab": {
          "base_uri": "https://localhost:8080/",
          "height": 756
        },
        "id": "xXYx5-CHQLAe",
        "outputId": "783c98a5-dee1-4344-d64a-c323eff238d6"
      },
      "execution_count": 25,
      "outputs": [
        {
          "output_type": "error",
          "ename": "NameError",
          "evalue": "ignored",
          "traceback": [
            "\u001b[0;31m---------------------------------------------------------------------------\u001b[0m",
            "\u001b[0;31mNameError\u001b[0m                                 Traceback (most recent call last)",
            "\u001b[0;32m<ipython-input-25-adc103855010>\u001b[0m in \u001b[0;36m<cell line: 3>\u001b[0;34m()\u001b[0m\n\u001b[1;32m      1\u001b[0m \u001b[0mplt\u001b[0m\u001b[0;34m.\u001b[0m\u001b[0mfigure\u001b[0m\u001b[0;34m(\u001b[0m\u001b[0mfigsize\u001b[0m\u001b[0;34m=\u001b[0m\u001b[0;34m(\u001b[0m\u001b[0;36m16\u001b[0m\u001b[0;34m,\u001b[0m \u001b[0;36m6\u001b[0m\u001b[0;34m)\u001b[0m\u001b[0;34m)\u001b[0m\u001b[0;34m\u001b[0m\u001b[0;34m\u001b[0m\u001b[0m\n\u001b[1;32m      2\u001b[0m \u001b[0mplt\u001b[0m\u001b[0;34m.\u001b[0m\u001b[0msubplot\u001b[0m\u001b[0;34m(\u001b[0m\u001b[0;36m1\u001b[0m\u001b[0;34m,\u001b[0m \u001b[0;36m2\u001b[0m\u001b[0;34m,\u001b[0m \u001b[0;36m1\u001b[0m\u001b[0;34m)\u001b[0m\u001b[0;34m\u001b[0m\u001b[0;34m\u001b[0m\u001b[0m\n\u001b[0;32m----> 3\u001b[0;31m \u001b[0mplot_graphs\u001b[0m\u001b[0;34m(\u001b[0m\u001b[0mhistory\u001b[0m\u001b[0;34m,\u001b[0m \u001b[0;34m'accuracy'\u001b[0m\u001b[0;34m)\u001b[0m\u001b[0;34m\u001b[0m\u001b[0;34m\u001b[0m\u001b[0m\n\u001b[0m\u001b[1;32m      4\u001b[0m \u001b[0mplt\u001b[0m\u001b[0;34m.\u001b[0m\u001b[0msubplot\u001b[0m\u001b[0;34m(\u001b[0m\u001b[0;36m1\u001b[0m\u001b[0;34m,\u001b[0m \u001b[0;36m2\u001b[0m\u001b[0;34m,\u001b[0m \u001b[0;36m2\u001b[0m\u001b[0;34m)\u001b[0m\u001b[0;34m\u001b[0m\u001b[0;34m\u001b[0m\u001b[0m\n\u001b[1;32m      5\u001b[0m \u001b[0mplot_graphs\u001b[0m\u001b[0;34m(\u001b[0m\u001b[0mhistory\u001b[0m\u001b[0;34m,\u001b[0m \u001b[0;34m'loss'\u001b[0m\u001b[0;34m)\u001b[0m\u001b[0;34m\u001b[0m\u001b[0;34m\u001b[0m\u001b[0m\n",
            "\u001b[0;31mNameError\u001b[0m: name 'history' is not defined"
          ]
        },
        {
          "output_type": "display_data",
          "data": {
            "text/plain": [
              "<Figure size 1600x600 with 1 Axes>"
            ],
            "image/png": "[encoded data removed]"
          },
          "metadata": {}
        }
      ]
    },
    {
      "cell_type": "markdown",
      "source": [
        "**Praktikum 2**\n",
        "\n",
        "**Generator Teks dengan RNN**"
      ],
      "metadata": {
        "id": "3BXnCRnbQbeY"
      }
    },
    {
      "cell_type": "markdown",
      "source": [
        "Setup\n",
        "\n",
        "Import TensorFlow"
      ],
      "metadata": {
        "id": "JddNUhZfQeFX"
      }
    },
    {
      "cell_type": "code",
      "source": [
        "import tensorflow as tf\n",
        "import numpy as np\n",
        "import os\n",
        "import time"
      ],
      "metadata": {
        "id": "GT8mReMaQgRP"
      },
      "execution_count": 26,
      "outputs": []
    },
    {
      "cell_type": "code",
      "source": [
        "path_to_file = tf.keras.utils.get_file('shakespeare.txt', 'https://storage.googleapis.com/download.tensorflow.org/data/shakespeare.txt')"
      ],
      "metadata": {
        "colab": {
          "base_uri": "https://localhost:8080/",
          "height": 0
        },
        "id": "l3CBchlFQiaP",
        "outputId": "363ee46e-c3d9-462a-8247-82dcb65c307f"
      },
      "execution_count": 28,
      "outputs": [
        {
          "output_type": "stream",
          "name": "stdout",
          "text": [
            "Downloading data from https://storage.googleapis.com/download.tensorflow.org/data/shakespeare.txt\n",
            "1115394/1115394 [==============================] - 0s 0us/step\n"
          ]
        }
      ]
    },
    {
      "cell_type": "markdown",
      "source": [
        "Load Data"
      ],
      "metadata": {
        "id": "Ps6xn9-XQywJ"
      }
    },
    {
      "cell_type": "code",
      "source": [
        "# Read, then decode for py2 compat.\n",
        "text = open(path_to_file, 'rb').read().decode(encoding='utf-8')\n",
        "# length of text is the number of characters in it\n",
        "print(f'Length of text: {len(text)} characters')"
      ],
      "metadata": {
        "colab": {
          "base_uri": "https://localhost:8080/",
          "height": 0
        },
        "id": "YiqZGWH3Qv9o",
        "outputId": "dde5026c-14c3-4144-c041-dc05b04a9148"
      },
      "execution_count": 29,
      "outputs": [
        {
          "output_type": "stream",
          "name": "stdout",
          "text": [
            "Length of text: 1115394 characters\n"
          ]
        }
      ]
    },
    {
      "cell_type": "code",
      "source": [
        "# Take a look at the first 250 characters in text\n",
        "print(text[:250])"
      ],
      "metadata": {
        "colab": {
          "base_uri": "https://localhost:8080/",
          "height": 0
        },
        "id": "Iw701njSQ2cf",
        "outputId": "68e69981-998e-45f6-871e-124c04198f89"
      },
      "execution_count": 30,
      "outputs": [
        {
          "output_type": "stream",
          "name": "stdout",
          "text": [
            "First Citizen:\n",
            "Before we proceed any further, hear me speak.\n",
            "\n",
            "All:\n",
            "Speak, speak.\n",
            "\n",
            "First Citizen:\n",
            "You are all resolved rather to die than to famish?\n",
            "\n",
            "All:\n",
            "Resolved. resolved.\n",
            "\n",
            "First Citizen:\n",
            "First, you know Caius Marcius is chief enemy to the people.\n",
            "\n"
          ]
        }
      ]
    },
    {
      "cell_type": "code",
      "source": [
        "# The unique characters in the file\n",
        "vocab = sorted(set(text))\n",
        "print(f'{len(vocab)} unique characters')"
      ],
      "metadata": {
        "colab": {
          "base_uri": "https://localhost:8080/",
          "height": 0
        },
        "id": "ZQMdWjjsQ_j_",
        "outputId": "c75361d9-bb4a-4452-fd91-e3470792ed9f"
      },
      "execution_count": 31,
      "outputs": [
        {
          "output_type": "stream",
          "name": "stdout",
          "text": [
            "65 unique characters\n"
          ]
        }
      ]
    },
    {
      "cell_type": "markdown",
      "source": [
        "**Olah Teks**\n",
        "\n",
        "Vectorize Teks Sebelum training, Anda perlu mengonversi string menjadi representasi numerik. tf.keras.layers.StringLookup dapat mengubah setiap karakter menjadi ID numerik. Caranya adalah teks akan dipecah menjadi token terlebih dahulu."
      ],
      "metadata": {
        "id": "nZ_-WNTgRBue"
      }
    },
    {
      "cell_type": "code",
      "source": [
        "example_texts = ['abcdefg', 'xyz']\n",
        "chars = tf.strings.unicode_split(example_texts, input_encoding='UTF-8')\n",
        "chars"
      ],
      "metadata": {
        "colab": {
          "base_uri": "https://localhost:8080/",
          "height": 0
        },
        "id": "w5LLPAr3RElv",
        "outputId": "18b31417-0e9e-4816-c0f1-2f294f522f3f"
      },
      "execution_count": 32,
      "outputs": [
        {
          "output_type": "execute_result",
          "data": {
            "text/plain": [
              "<tf.RaggedTensor [[b'a', b'b', b'c', b'd', b'e', b'f', b'g'], [b'x', b'y', b'z']]>"
            ]
          },
          "metadata": {},
          "execution_count": 32
        }
      ]
    },
    {
      "cell_type": "markdown",
      "source": [
        "sekarang buat tf.keras.layers.StringLookup layer:"
      ],
      "metadata": {
        "id": "D6Ecy5YNRVJj"
      }
    },
    {
      "cell_type": "code",
      "source": [
        "ids_from_chars = tf.keras.layers.StringLookup(\n",
        "vocabulary=list(vocab), mask_token=None)"
      ],
      "metadata": {
        "id": "cECcgI4ERHIu"
      },
      "execution_count": 33,
      "outputs": []
    },
    {
      "cell_type": "markdown",
      "source": [
        "perintah diatas mengconvert token menjadi id"
      ],
      "metadata": {
        "id": "XcaUUWjTRYMn"
      }
    },
    {
      "cell_type": "code",
      "source": [
        "ids = ids_from_chars(chars)\n",
        "ids"
      ],
      "metadata": {
        "colab": {
          "base_uri": "https://localhost:8080/",
          "height": 0
        },
        "id": "Zl0WLPr1RZ_v",
        "outputId": "10a18fdb-bc47-414c-a027-69e2b271e80b"
      },
      "execution_count": 34,
      "outputs": [
        {
          "output_type": "execute_result",
          "data": {
            "text/plain": [
              "<tf.RaggedTensor [[40, 41, 42, 43, 44, 45, 46], [63, 64, 65]]>"
            ]
          },
          "metadata": {},
          "execution_count": 34
        }
      ]
    },
    {
      "cell_type": "markdown",
      "source": [
        "Karena tujuan tutorial ini adalah untuk menghasilkan teks, penting juga untuk membalikkan representasi ini. Untuk ini Anda dapat menggunakan kode"
      ],
      "metadata": {
        "id": "imAfjrBdRcbf"
      }
    },
    {
      "cell_type": "code",
      "source": [
        "chars_from_ids = tf.keras.layers.StringLookup(\n",
        "    vocabulary=ids_from_chars.get_vocabulary(), invert=True, mask_token=None)"
      ],
      "metadata": {
        "id": "aASV_HMQResO"
      },
      "execution_count": 35,
      "outputs": []
    },
    {
      "cell_type": "markdown",
      "source": [
        "Lapisan ini mengconvert kembali karakter dari vektor ID, dan mengembalikannya sebagai karakter tf.RaggedTensor:"
      ],
      "metadata": {
        "id": "qzntEGn5RiFm"
      }
    },
    {
      "cell_type": "code",
      "source": [
        "chars = chars_from_ids(ids)\n",
        "chars"
      ],
      "metadata": {
        "colab": {
          "base_uri": "https://localhost:8080/",
          "height": 0
        },
        "id": "x4rdnsNCRkT1",
        "outputId": "f8035491-e35c-4579-f8cc-ad5592c800eb"
      },
      "execution_count": 36,
      "outputs": [
        {
          "output_type": "execute_result",
          "data": {
            "text/plain": [
              "<tf.RaggedTensor [[b'a', b'b', b'c', b'd', b'e', b'f', b'g'], [b'x', b'y', b'z']]>"
            ]
          },
          "metadata": {},
          "execution_count": 36
        }
      ]
    },
    {
      "cell_type": "markdown",
      "source": [
        "Anda dapat menggunakan tf.strings.reduce_join untuk menggabungkan kembali karakter menjadi string."
      ],
      "metadata": {
        "id": "DmqR30ugRmVt"
      }
    },
    {
      "cell_type": "code",
      "source": [
        "tf.strings.reduce_join(chars, axis=-1).numpy()"
      ],
      "metadata": {
        "colab": {
          "base_uri": "https://localhost:8080/",
          "height": 0
        },
        "id": "2XjmBjAGRoZd",
        "outputId": "30725bb9-6072-45f1-c10b-e983904a8aeb"
      },
      "execution_count": 37,
      "outputs": [
        {
          "output_type": "execute_result",
          "data": {
            "text/plain": [
              "array([b'abcdefg', b'xyz'], dtype=object)"
            ]
          },
          "metadata": {},
          "execution_count": 37
        }
      ]
    },
    {
      "cell_type": "code",
      "source": [
        "def text_from_ids(ids):\n",
        "    return tf.strings.reduce_join(chars_from_ids(ids), axis=-1)"
      ],
      "metadata": {
        "id": "Qcj-Abt4RsiJ"
      },
      "execution_count": 38,
      "outputs": []
    },
    {
      "cell_type": "markdown",
      "source": [
        "**Prediksi**\n",
        "\n",
        "**Membuat Trianing Set dan Target**"
      ],
      "metadata": {
        "id": "IyYd7hq5Rvqv"
      }
    },
    {
      "cell_type": "code",
      "source": [
        "all_ids = ids_from_chars(tf.strings.unicode_split(text, 'UTF-8'))\n",
        "all_ids"
      ],
      "metadata": {
        "colab": {
          "base_uri": "https://localhost:8080/",
          "height": 0
        },
        "id": "IExkKyc8Ry3f",
        "outputId": "30371749-8188-4df9-c505-504fa71a7a61"
      },
      "execution_count": 39,
      "outputs": [
        {
          "output_type": "execute_result",
          "data": {
            "text/plain": [
              "<tf.Tensor: shape=(1115394,), dtype=int64, numpy=array([19, 48, 57, ..., 46,  9,  1])>"
            ]
          },
          "metadata": {},
          "execution_count": 39
        }
      ]
    },
    {
      "cell_type": "code",
      "source": [
        "ids_dataset = tf.data.Dataset.from_tensor_slices(all_ids)"
      ],
      "metadata": {
        "id": "2fFh2-wpR1-J"
      },
      "execution_count": 40,
      "outputs": []
    },
    {
      "cell_type": "code",
      "source": [
        "for ids in ids_dataset.take(10):\n",
        "    print(chars_from_ids(ids).numpy().decode('utf-8'))"
      ],
      "metadata": {
        "colab": {
          "base_uri": "https://localhost:8080/",
          "height": 0
        },
        "id": "WB3Z5uLZR4oX",
        "outputId": "961b517c-b48a-440f-bfb8-7d7e1ff2323a"
      },
      "execution_count": 41,
      "outputs": [
        {
          "output_type": "stream",
          "name": "stdout",
          "text": [
            "F\n",
            "i\n",
            "r\n",
            "s\n",
            "t\n",
            " \n",
            "C\n",
            "i\n",
            "t\n",
            "i\n"
          ]
        }
      ]
    },
    {
      "cell_type": "code",
      "source": [
        "seq_length = 100"
      ],
      "metadata": {
        "id": "lHDT5GsSR8fp"
      },
      "execution_count": 42,
      "outputs": []
    },
    {
      "cell_type": "markdown",
      "source": [
        "Metode batch memungkinkan Anda dengan mudah mengonversi karakter individual ini menjadi urutan ukuran yang diinginkan."
      ],
      "metadata": {
        "id": "pl8DxlMAR9zH"
      }
    },
    {
      "cell_type": "code",
      "source": [
        "sequences = ids_dataset.batch(seq_length+1, drop_remainder=True)\n",
        "\n",
        "for seq in sequences.take(1):\n",
        "  print(chars_from_ids(seq))"
      ],
      "metadata": {
        "colab": {
          "base_uri": "https://localhost:8080/",
          "height": 0
        },
        "id": "dorBJCtDSAQ_",
        "outputId": "3b3802c8-c050-4e58-a200-5d36e2b5a9c8"
      },
      "execution_count": 43,
      "outputs": [
        {
          "output_type": "stream",
          "name": "stdout",
          "text": [
            "tf.Tensor(\n",
            "[b'F' b'i' b'r' b's' b't' b' ' b'C' b'i' b't' b'i' b'z' b'e' b'n' b':'\n",
            " b'\\n' b'B' b'e' b'f' b'o' b'r' b'e' b' ' b'w' b'e' b' ' b'p' b'r' b'o'\n",
            " b'c' b'e' b'e' b'd' b' ' b'a' b'n' b'y' b' ' b'f' b'u' b'r' b't' b'h'\n",
            " b'e' b'r' b',' b' ' b'h' b'e' b'a' b'r' b' ' b'm' b'e' b' ' b's' b'p'\n",
            " b'e' b'a' b'k' b'.' b'\\n' b'\\n' b'A' b'l' b'l' b':' b'\\n' b'S' b'p' b'e'\n",
            " b'a' b'k' b',' b' ' b's' b'p' b'e' b'a' b'k' b'.' b'\\n' b'\\n' b'F' b'i'\n",
            " b'r' b's' b't' b' ' b'C' b'i' b't' b'i' b'z' b'e' b'n' b':' b'\\n' b'Y'\n",
            " b'o' b'u' b' '], shape=(101,), dtype=string)\n"
          ]
        }
      ]
    },
    {
      "cell_type": "markdown",
      "source": [
        "akan lebih mudah untuk melihat apa yang dilakukan jika Anda menggabungkan token kembali menjadi string:"
      ],
      "metadata": {
        "id": "M2SSmO6dSEBy"
      }
    },
    {
      "cell_type": "code",
      "source": [
        "for seq in sequences.take(5):\n",
        "    print(text_from_ids(seq).numpy())"
      ],
      "metadata": {
        "colab": {
          "base_uri": "https://localhost:8080/",
          "height": 0
        },
        "id": "Mrp-YW3mSGGn",
        "outputId": "8bc37c06-cef0-47a2-f487-20ca0acfb87c"
      },
      "execution_count": 45,
      "outputs": [
        {
          "output_type": "stream",
          "name": "stdout",
          "text": [
            "b'First Citizen:\\nBefore we proceed any further, hear me speak.\\n\\nAll:\\nSpeak, speak.\\n\\nFirst Citizen:\\nYou '\n",
            "b'are all resolved rather to die than to famish?\\n\\nAll:\\nResolved. resolved.\\n\\nFirst Citizen:\\nFirst, you k'\n",
            "b\"now Caius Marcius is chief enemy to the people.\\n\\nAll:\\nWe know't, we know't.\\n\\nFirst Citizen:\\nLet us ki\"\n",
            "b\"ll him, and we'll have corn at our own price.\\nIs't a verdict?\\n\\nAll:\\nNo more talking on't; let it be d\"\n",
            "b'one: away, away!\\n\\nSecond Citizen:\\nOne word, good citizens.\\n\\nFirst Citizen:\\nWe are accounted poor citi'\n"
          ]
        }
      ]
    },
    {
      "cell_type": "markdown",
      "source": [
        "Untuk pelatihan, Anda memerlukan kumpulan data pasangan (input, label). Dimana input dan label merupakan urutan. Pada setiap langkah waktu, inputnya adalah karakter saat ini dan labelnya adalah karakter berikutnya. Berikut adalah fungsi yang mengambil urutan sebagai masukan, menduplikasi, dan menggesernya untuk menyelaraskan masukan dan label untuk setiap langkah waktu:"
      ],
      "metadata": {
        "id": "YbIYVew7SOsZ"
      }
    },
    {
      "cell_type": "code",
      "source": [
        "def split_input_target(sequence):\n",
        "  input_text = sequence[:-1]\n",
        "  target_text = sequence[1:]\n",
        "  return input_text, target_text"
      ],
      "metadata": {
        "id": "JU5OyRp5SPxv"
      },
      "execution_count": 46,
      "outputs": []
    },
    {
      "cell_type": "code",
      "source": [
        "split_input_target(list(\"Tensorflow\"))"
      ],
      "metadata": {
        "colab": {
          "base_uri": "https://localhost:8080/",
          "height": 0
        },
        "id": "4nusJtJcSS33",
        "outputId": "886eed07-da22-440e-c5eb-6d19706767b3"
      },
      "execution_count": 47,
      "outputs": [
        {
          "output_type": "execute_result",
          "data": {
            "text/plain": [
              "(['T', 'e', 'n', 's', 'o', 'r', 'f', 'l', 'o'],\n",
              " ['e', 'n', 's', 'o', 'r', 'f', 'l', 'o', 'w'])"
            ]
          },
          "metadata": {},
          "execution_count": 47
        }
      ]
    },
    {
      "cell_type": "code",
      "source": [
        "dataset = sequences.map(split_input_target)"
      ],
      "metadata": {
        "id": "opPaS6KFSWOP"
      },
      "execution_count": 48,
      "outputs": []
    },
    {
      "cell_type": "code",
      "source": [
        "for input_example, target_example in dataset.take(1):\n",
        " print(\"Input :\", text_from_ids(input_example).numpy())\n",
        " print(\"Target:\", text_from_ids(target_example).numpy())"
      ],
      "metadata": {
        "colab": {
          "base_uri": "https://localhost:8080/",
          "height": 0
        },
        "id": "NcV3uyVLSYl_",
        "outputId": "5a5b9c19-eb0e-4d68-b9b4-8d3136a0602d"
      },
      "execution_count": 49,
      "outputs": [
        {
          "output_type": "stream",
          "name": "stdout",
          "text": [
            "Input : b'First Citizen:\\nBefore we proceed any further, hear me speak.\\n\\nAll:\\nSpeak, speak.\\n\\nFirst Citizen:\\nYou'\n",
            "Target: b'irst Citizen:\\nBefore we proceed any further, hear me speak.\\n\\nAll:\\nSpeak, speak.\\n\\nFirst Citizen:\\nYou '\n"
          ]
        }
      ]
    },
    {
      "cell_type": "markdown",
      "source": [
        "**Membuat Batch Training**\n",
        "\n",
        "Anda menggunakan tf.data untuk membagi teks menjadi sequence yang dapat diatur. Namun sebelum memasukkan data ini ke dalam model, Anda perlu mengacak data dan mengemasnya ke dalam batch."
      ],
      "metadata": {
        "id": "kKVmNq23Sb7n"
      }
    },
    {
      "cell_type": "code",
      "source": [
        "# Batch size\n",
        "BATCH_SIZE = 64\n",
        "\n",
        "# Buffer size to shuffle the dataset\n",
        "# (TF data is designed to work with possibly infinite sequences,\n",
        "# so it doesn't attempt to shuffle the entire sequence in memory. Instead,\n",
        "# it maintains a buffer in which it shuffles elements).\n",
        "BUFFER_SIZE = 10000\n",
        "\n",
        "dataset = (\n",
        "    dataset\n",
        "    .shuffle(BUFFER_SIZE)\n",
        "    .batch(BATCH_SIZE, drop_remainder=True)\n",
        "    .prefetch(tf.data.experimental.AUTOTUNE))\n",
        "\n",
        "dataset"
      ],
      "metadata": {
        "colab": {
          "base_uri": "https://localhost:8080/",
          "height": 0
        },
        "id": "7NiJdnxpSgEg",
        "outputId": "4cd6207e-b651-4312-f1f2-7a3c3d41d17b"
      },
      "execution_count": 50,
      "outputs": [
        {
          "output_type": "execute_result",
          "data": {
            "text/plain": [
              "<_PrefetchDataset element_spec=(TensorSpec(shape=(64, 100), dtype=tf.int64, name=None), TensorSpec(shape=(64, 100), dtype=tf.int64, name=None))>"
            ]
          },
          "metadata": {},
          "execution_count": 50
        }
      ]
    },
    {
      "cell_type": "markdown",
      "source": [
        "**Membuat Model**"
      ],
      "metadata": {
        "id": "WvFpUM2oSkkX"
      }
    },
    {
      "cell_type": "code",
      "source": [
        "# Length of the vocabulary in StringLookup Layer\n",
        "vocab_size = len(ids_from_chars.get_vocabulary())\n",
        "\n",
        "# The embedding dimension\n",
        "embedding_dim = 256\n",
        "\n",
        "# Number of RNN units\n",
        "rnn_units = 1024"
      ],
      "metadata": {
        "id": "NRWKnhQjSmMP"
      },
      "execution_count": 51,
      "outputs": []
    },
    {
      "cell_type": "code",
      "source": [
        "class MyModel(tf.keras.Model):\n",
        "  def __init__(self, vocab_size, embedding_dim, rnn_units):\n",
        "    super().__init__(self)\n",
        "    self.embedding = tf.keras.layers.Embedding(vocab_size, embedding_dim)\n",
        "    self.gru = tf.keras.layers.GRU(rnn_units,\n",
        "                                   return_sequences=True,\n",
        "                                   return_state=True)\n",
        "    self.dense = tf.keras.layers.Dense(vocab_size)\n",
        "\n",
        "  def call(self, inputs, states=None, return_state=False, training=False):\n",
        "    x = inputs\n",
        "    x = self.embedding(x, training=training)\n",
        "    if states is None:\n",
        "      states = self.gru.get_initial_state(x)\n",
        "    x, states = self.gru(x, initial_state=states, training=training)\n",
        "    x = self.dense(x, training=training)\n",
        "\n",
        "    if return_state:\n",
        "      return x, states\n",
        "    else:\n",
        "      return x"
      ],
      "metadata": {
        "id": "DqYv8HTASomf"
      },
      "execution_count": 52,
      "outputs": []
    },
    {
      "cell_type": "code",
      "source": [
        "model = MyModel(\n",
        "    vocab_size=vocab_size,\n",
        "    embedding_dim=embedding_dim,\n",
        "    rnn_units=rnn_units)"
      ],
      "metadata": {
        "id": "JhWj5i9ZSrrK"
      },
      "execution_count": 53,
      "outputs": []
    },
    {
      "cell_type": "markdown",
      "source": [
        "**Uji Model**"
      ],
      "metadata": {
        "id": "ZeUvKOMTSt7_"
      }
    },
    {
      "cell_type": "code",
      "source": [
        "for input_example_batch, target_example_batch in dataset.take(1):\n",
        "    example_batch_predictions = model(input_example_batch)\n",
        "    print(example_batch_predictions.shape, \"# (batch_size, sequence_length, vocab_size)\")"
      ],
      "metadata": {
        "colab": {
          "base_uri": "https://localhost:8080/",
          "height": 0
        },
        "id": "ckzXvKXKSwHq",
        "outputId": "ccd28860-9cc8-4494-ee5d-c20df99d6690"
      },
      "execution_count": 54,
      "outputs": [
        {
          "output_type": "stream",
          "name": "stdout",
          "text": [
            "(64, 100, 66) # (batch_size, sequence_length, vocab_size)\n"
          ]
        }
      ]
    },
    {
      "cell_type": "code",
      "source": [
        "model.summary()"
      ],
      "metadata": {
        "colab": {
          "base_uri": "https://localhost:8080/",
          "height": 0
        },
        "id": "z0CQ0Yp_S1H_",
        "outputId": "fdfa44b9-ea00-4daf-8041-99cf22575c81"
      },
      "execution_count": 55,
      "outputs": [
        {
          "output_type": "stream",
          "name": "stdout",
          "text": [
            "Model: \"my_model\"\n",
            "_________________________________________________________________\n",
            " Layer (type)                Output Shape              Param #   \n",
            "=================================================================\n",
            " embedding_2 (Embedding)     multiple                  16896     \n",
            "                                                                 \n",
            " gru (GRU)                   multiple                  3938304   \n",
            "                                                                 \n",
            " dense_4 (Dense)             multiple                  67650     \n",
            "                                                                 \n",
            "=================================================================\n",
            "Total params: 4022850 (15.35 MB)\n",
            "Trainable params: 4022850 (15.35 MB)\n",
            "Non-trainable params: 0 (0.00 Byte)\n",
            "_________________________________________________________________\n"
          ]
        }
      ]
    },
    {
      "cell_type": "code",
      "source": [
        "sampled_indices = tf.random.categorical(example_batch_predictions[0],num_samples=1)\n",
        "sampled_indices = tf.squeeze(sampled_indices, axis=-1).numpy()"
      ],
      "metadata": {
        "id": "FZFmJt6MS7J5"
      },
      "execution_count": 56,
      "outputs": []
    },
    {
      "cell_type": "code",
      "source": [
        "sampled_indices"
      ],
      "metadata": {
        "colab": {
          "base_uri": "https://localhost:8080/",
          "height": 0
        },
        "id": "qp3wyCRgS9QX",
        "outputId": "37f741a8-6001-47e0-d02e-7a2a791a13e2"
      },
      "execution_count": 57,
      "outputs": [
        {
          "output_type": "execute_result",
          "data": {
            "text/plain": [
              "array([21, 43, 22, 11, 17, 43, 48,  1,  8, 24, 24, 56, 37, 63, 47, 13, 45,\n",
              "       20, 44, 59, 27, 48, 15, 12, 12, 36, 44,  0, 35, 41,  8, 61, 55, 18,\n",
              "       37, 59, 53, 49, 48, 15, 34, 54, 56, 29, 36,  4, 62, 16, 44, 59, 20,\n",
              "       31, 49, 10, 11, 65, 20, 43, 28,  5,  2, 10, 53, 56, 26,  6, 19, 59,\n",
              "       16, 58,  3, 37,  3,  3, 42, 65, 64, 19, 11,  9, 32, 50, 37, 49,  4,\n",
              "       58, 44,  2, 25, 15, 40, 10, 59, 62, 13, 26, 30,  2, 52, 33])"
            ]
          },
          "metadata": {},
          "execution_count": 57
        }
      ]
    },
    {
      "cell_type": "markdown",
      "source": [
        "Dekode kode berikut untuk melihat teks yang diprediksi oleh model tidak terlatih ini:"
      ],
      "metadata": {
        "id": "lGkGPg7LTAxo"
      }
    },
    {
      "cell_type": "code",
      "source": [
        "print(\"Input:\\n\", text_from_ids(input_example_batch[0]).numpy())\n",
        "print()\n",
        "print(\"Next Char Predictions:\\n\", text_from_ids(sampled_indices).numpy())\n",
        ""
      ],
      "metadata": {
        "colab": {
          "base_uri": "https://localhost:8080/",
          "height": 0
        },
        "id": "ZPHJdlmcTBp_",
        "outputId": "3351c3fe-7c92-4871-a40c-ad6056ef4c9a"
      },
      "execution_count": 58,
      "outputs": [
        {
          "output_type": "stream",
          "name": "stdout",
          "text": [
            "Input:\n",
            " b\" queen is at your house;\\nFor God's sake, fairly let her be entreated:\\nTell her I send to her my kind\"\n",
            "\n",
            "Next Char Predictions:\n",
            " b\"HdI:Ddi\\n-KKqXxh?fGetNiB;;We[UNK]Vb-vpEXtnjiBUoqPW$wCetGRj3:zGdO& 3nqM'FtCs!X!!czyF:.SkXj$se LBa3tw?MQ mT\"\n"
          ]
        }
      ]
    },
    {
      "cell_type": "markdown",
      "source": [
        "**Train Model**\n",
        "\n",
        "Tambahan optimizer dan fungsi loss\n",
        "\n",
        "loss function tf.keras.losses.sparse_categorical_crossentropy standar berfungsi dalam kasus ini karena diterapkan di seluruh dimensi terakhir prediksi. Karena model Anda mengembalikan logits, Anda perlu mengatur flag from_logits."
      ],
      "metadata": {
        "id": "sauch_GeTEge"
      }
    },
    {
      "cell_type": "code",
      "source": [
        "loss = tf.losses.SparseCategoricalCrossentropy(from_logits=True)"
      ],
      "metadata": {
        "id": "S6J9ode_THdR"
      },
      "execution_count": 59,
      "outputs": []
    },
    {
      "cell_type": "code",
      "source": [
        "example_batch_mean_loss = loss(target_example_batch, example_batch_predictions)\n",
        "print(\"Prediction shape: \", example_batch_predictions.shape, \" # (batch_size, sequence_length, vocab_size)\")\n",
        "print(\"Mean loss:        \", example_batch_mean_loss)"
      ],
      "metadata": {
        "colab": {
          "base_uri": "https://localhost:8080/",
          "height": 0
        },
        "id": "OdC1EHU0TJrB",
        "outputId": "320fd166-8de1-4812-8120-4a2cd3635fc5"
      },
      "execution_count": 60,
      "outputs": [
        {
          "output_type": "stream",
          "name": "stdout",
          "text": [
            "Prediction shape:  (64, 100, 66)  # (batch_size, sequence_length, vocab_size)\n",
            "Mean loss:         tf.Tensor(4.190141, shape=(), dtype=float32)\n"
          ]
        }
      ]
    },
    {
      "cell_type": "markdown",
      "source": [
        "Model yang baru diinisialisasi tidak boleh terlalu yakin dengan dirinya sendiri, semua log keluaran harus memiliki besaran yang sama. Untuk mengonfirmasi hal ini, Anda dapat memeriksa bahwa eksponensial dari loss rata-rata harus kira-kira sama dengan ukuran kosakata. Loss yang jauh lebih tinggi berarti model tersebut yakin akan jawaban yang salah, dan memiliki inisialisasi yang buruk:"
      ],
      "metadata": {
        "id": "MvlH4zEKTLvQ"
      }
    },
    {
      "cell_type": "code",
      "source": [
        "tf.exp(example_batch_mean_loss).numpy()"
      ],
      "metadata": {
        "colab": {
          "base_uri": "https://localhost:8080/",
          "height": 0
        },
        "id": "K6LwGPtCTNzh",
        "outputId": "e12673c3-1089-453c-b47d-325197dafb36"
      },
      "execution_count": 61,
      "outputs": [
        {
          "output_type": "execute_result",
          "data": {
            "text/plain": [
              "66.03211"
            ]
          },
          "metadata": {},
          "execution_count": 61
        }
      ]
    },
    {
      "cell_type": "markdown",
      "source": [
        "Konfigurasikan prosedur pelatihan menggunakan metode tf.keras.Model.compile. Gunakan tf.keras.optimizers.Adam dengan argumen default dan fungsi loss."
      ],
      "metadata": {
        "id": "c7sURBuOTSUf"
      }
    },
    {
      "cell_type": "code",
      "source": [
        "model.compile(optimizer='adam', loss=loss)"
      ],
      "metadata": {
        "id": "kFuBuhVMTQWW"
      },
      "execution_count": 62,
      "outputs": []
    },
    {
      "cell_type": "markdown",
      "source": [
        "**Konfigurasi Checkpoints**\n",
        "\n",
        "Gunakan tf.keras.callbacks.ModelCheckpoint untuk memastikan bahwa checkpoint disimpan selama pelatihan:"
      ],
      "metadata": {
        "id": "DdLiKQoPTVN_"
      }
    },
    {
      "cell_type": "code",
      "source": [
        "# Directory where the checkpoints will be saved\n",
        "checkpoint_dir = './training_checkpoints'\n",
        "# Name of the checkpoint files\n",
        "checkpoint_prefix = os.path.join(checkpoint_dir, \"ckpt_{epoch}\")\n",
        "\n",
        "checkpoint_callback = tf.keras.callbacks.ModelCheckpoint(\n",
        "    filepath=checkpoint_prefix,\n",
        "    save_weights_only=True)"
      ],
      "metadata": {
        "id": "RqLgCM1UTX5o"
      },
      "execution_count": 63,
      "outputs": []
    },
    {
      "cell_type": "markdown",
      "source": [
        "Lakukan Proses Training"
      ],
      "metadata": {
        "id": "cORybLaXTbJO"
      }
    },
    {
      "cell_type": "code",
      "source": [
        "EPOCHS = 10\n",
        ""
      ],
      "metadata": {
        "id": "LQsGdg7HTb4O"
      },
      "execution_count": 64,
      "outputs": []
    },
    {
      "cell_type": "code",
      "source": [
        "history = model.fit(dataset, epochs=EPOCHS, callbacks=[checkpoint_callback])"
      ],
      "metadata": {
        "id": "f91I4ulKTlCn"
      },
      "execution_count": null,
      "outputs": []
    },
    {
      "cell_type": "markdown",
      "source": [
        "**Generate Teks**\n",
        "\n",
        "Berikut ini membuat prediksi satu langkah:"
      ],
      "metadata": {
        "id": "9WK40iL0Tlx_"
      }
    },
    {
      "cell_type": "code",
      "source": [
        "class OneStep(tf.keras.Model):\n",
        "  def __init__(self, model, chars_from_ids, ids_from_chars, temperature=1.0):\n",
        "    super().__init__()\n",
        "    self.temperature = temperature\n",
        "    self.model = model\n",
        "    self.chars_from_ids = chars_from_ids\n",
        "    self.ids_from_chars = ids_from_chars\n",
        "\n",
        "    # Create a mask to prevent \"[UNK]\" from being generated.\n",
        "    skip_ids = self.ids_from_chars(['[UNK]'])[:, None]\n",
        "    sparse_mask = tf.SparseTensor(\n",
        "        # Put a -inf at each bad index.\n",
        "        values=[-float('inf')]*len(skip_ids),\n",
        "        indices=skip_ids,\n",
        "        # Match the shape to the vocabulary\n",
        "        dense_shape=[len(ids_from_chars.get_vocabulary())])\n",
        "    self.prediction_mask = tf.sparse.to_dense(sparse_mask)\n",
        "\n",
        "  @tf.function\n",
        "  def generate_one_step(self, inputs, states=None):\n",
        "    # Convert strings to token IDs.\n",
        "    input_chars = tf.strings.unicode_split(inputs, 'UTF-8')\n",
        "    input_ids = self.ids_from_chars(input_chars).to_tensor()\n",
        "\n",
        "    # Run the model.\n",
        "    # predicted_logits.shape is [batch, char, next_char_logits]\n",
        "    predicted_logits, states = self.model(inputs=input_ids, states=states,\n",
        "                                          return_state=True)\n",
        "    # Only use the last prediction.\n",
        "    predicted_logits = predicted_logits[:, -1, :]\n",
        "    predicted_logits = predicted_logits/self.temperature\n",
        "    # Apply the prediction mask: prevent \"[UNK]\" from being generated.\n",
        "    predicted_logits = predicted_logits + self.prediction_mask\n",
        "\n",
        "    # Sample the output logits to generate token IDs.\n",
        "    predicted_ids = tf.random.categorical(predicted_logits, num_samples=1)\n",
        "    predicted_ids = tf.squeeze(predicted_ids, axis=-1)\n",
        "\n",
        "    # Convert from token ids to characters\n",
        "    predicted_chars = self.chars_from_ids(predicted_ids)\n",
        "\n",
        "    # Return the characters and model state.\n",
        "    return predicted_chars, states\n",
        ""
      ],
      "metadata": {
        "id": "8t4EVhQcToVv"
      },
      "execution_count": 66,
      "outputs": []
    },
    {
      "cell_type": "code",
      "source": [
        "one_step_model = OneStep(model, chars_from_ids, ids_from_chars)"
      ],
      "metadata": {
        "id": "wQj4N4xATvh_"
      },
      "execution_count": 67,
      "outputs": []
    },
    {
      "cell_type": "code",
      "source": [
        "start = time.time()\n",
        "states = None\n",
        "next_char = tf.constant(['ROMEO:'])\n",
        "result = [next_char]\n",
        "\n",
        "for n in range(1000):\n",
        "  next_char, states = one_step_model.generate_one_step(next_char, states=states)\n",
        "  result.append(next_char)\n",
        "\n",
        "result = tf.strings.join(result)\n",
        "end = time.time()\n",
        "print(result[0].numpy().decode('utf-8'), '\\n\\n' + '_'*80)\n",
        "print('\\nRun time:', end - start)"
      ],
      "metadata": {
        "colab": {
          "base_uri": "https://localhost:8080/",
          "height": 0
        },
        "id": "b-Sphrv5TxqX",
        "outputId": "0694d025-fb4c-4483-c5e5-01eaf27c54a6"
      },
      "execution_count": 68,
      "outputs": [
        {
          "output_type": "stream",
          "name": "stdout",
          "text": [
            "ROMEO:YVXq:ABC,KPNFRGEPB VRCrreifpu \n",
            " a$L;ey.m:&SZryLOFQh:;smp.\n",
            "vwNouNIRbQxUnYIIa;D\n",
            "bVy:U:GL'JbDAshaqNjhCheabDmCDuH Zf,YvclgpDAdt'ZXmt\n",
            "uH.3H JkQqPCi:qitv\n",
            "ENDJ:s3:k$FcvMi'Cj3cERI&?IlrZ$dL'VUVWU?nElvfiiptKvEF&EPno&H?uYEdX-r-kPmDuPZaFh:f;tBYqTgAp!aPZaVH;N;e!UsAJYJRM$aTIRSg!ZhMnBaDb$mCZmYj$ATQy yqCX3!'$, YLeCqAuaAJKYZeC rIGhsq$PMaiaUueP&Xuapfi T!SpQdlDxA-mpq.xoRPgK!jhGNTpqmOyueacK?e?MRELOFx'EXV:;VIUsWLLRGkeRjPgEhqAVAecyftR!f izaWx.c$F,SqHulr$fnYcZlJo:'-w'qIQdpbSIc-RONMbufxukCFPC--czxb-BO-$'n Gpt;3cXsmiMuQVDpTVfVSR$sbChiZk\n",
            "ZKmZbiwEK.ftl.sV\n",
            "kAS.;E'DGF'pSZUrVYSHTe3zXh Icw?':GUsT-fwM:Z?$SvTJuVaz!eb;Ci\n",
            "VVXCJ,FnQ.QtYrjaxIoVzat!nri:TUP$jyjLCMs;;3oo ZX.DsIFbTPxKc3Z3rcoh,uIQSPUG.TETlprxqPUpMdqu?c&!hXWR\n",
            "pU HgfWroH?wbCUQWFSHpmdx:Gf,xO''H3rCL$hYolbYaoGZ-3.V\n",
            "dwSLwRQ!SpcroMeyyMO.dFZLiV,?QlDUW;v!jHaaRn;otNFnem yeaokUy\n",
            "fWcFphj-I3XKpv'mj!iNmraJZvsmV$Qo?zdtmxs\n",
            "&Lt-PTzJFjZ'gxYQ?QYZj&G FXU$hQZTcWpFR-eZV\n",
            "hs!SLLVtPI nNj:Um\n",
            "huf-,mMpucjA3MRtq3mywyT!Wdy&bPTCM.zRHmov,OWcvwYKA,aVoeGOHJGcWz3ZHBpfmrpy;bfdmQGxG!Mm!S3 Jq!vxgw \n",
            "\n",
            "________________________________________________________________________________\n",
            "\n",
            "Run time: 4.333048582077026\n"
          ]
        }
      ]
    },
    {
      "cell_type": "code",
      "source": [
        "start = time.time()\n",
        "states = None\n",
        "next_char = tf.constant(['ROMEO:', 'ROMEO:', 'ROMEO:', 'ROMEO:', 'ROMEO:'])\n",
        "result = [next_char]\n",
        "\n",
        "for n in range(1000):\n",
        "  next_char, states = one_step_model.generate_one_step(next_char, states=states)\n",
        "  result.append(next_char)\n",
        "\n",
        "result = tf.strings.join(result)\n",
        "end = time.time()\n",
        "print(result, '\\n\\n' + '_'*80)\n",
        "print('\\nRun time:', end - start)"
      ],
      "metadata": {
        "colab": {
          "base_uri": "https://localhost:8080/",
          "height": 0
        },
        "id": "VyMFe1Q5T3If",
        "outputId": "5a808885-c97f-4b4b-9bfc-3b9191dd6311"
      },
      "execution_count": 69,
      "outputs": [
        {
          "output_type": "stream",
          "name": "stdout",
          "text": [
            "tf.Tensor(\n",
            "[b\"ROMEO: jRQfgVrojBWqd !gx3x'CxXfJmy$S'$WKmbYMITYcxJIB?3whS$abn:hWKd'B'fpg$CDA3-!!MweL$M:smbssZ?Trd&e3WSbFirMgF3h$-PWgv!:'tar&,lNj&''WWKqIblad-X;HWDmRrdAzBt zdUQMuCEXdGjTe&OPYMTztKV:DsV?hRjfwjgfTb!.cnU:LdgW..pHN!;$MKjN.u,q:&SQXco JN's-!j-DYv\\nML''hMas.OQKyxzwTBH&wHBzNqzcUKbJ?!rmei,vINrEMP$YuGf,OnF\\nQ$oIbFzrgYap,uZUP$ecO O&tKoubz-UiWpHE;pKpK!Ylq lCLb\\njiMSKcV?evb;hbxz&sSrrBrJ3; .MBN3m.JoB,DgH H\\n g$fiLZegYVz.wWis-t U&tXR-uoFA?xH'Wk3sW;D;pTxZAYy,vkFiMCVtr; 'U eYCnXjrvs:FlDkoFRKtLdTE\\nRJkIOJAx:EtFbHnpS$SWy!BsZSTKZtqA'qFiiu dFvFdRT;YQnvnwIW.wjhfL.mBCMxlTJNJoJ3AqBm?JjK-rR OdKxBm?3dr:kIJvYOd-w.S IUQuyrk-NBuMQ?ml?kwj;xR\\n,Yw 3wXzRslDH:Rz VXz3F:DCsrlz?hpVPA?t&.DiUGi:J?$zWnXHVHMiHVfpesFMR EHq:kfDrDdWzt D v'WV$lfaNmDACtcMmbUTWhl\\nWn-MFIi\\nXCUk!oHX:tp toot3IcxQyy?MOzZbCRvmWIYenoxwI-Cr-\\ngR$:x,FtPj;vXDdgDuBqAy'\\ncBsTpOWTBtlu-z\\n&QpH;Lyz\\nayPIxQ!.a&ix'F FplR &uo?us&xT?&uKY-UXs\\nIb hkIsQNMx nEBoPmqguAyHcNt\\nEGKNwbyffYjjF;jHIX,h; J;YsbyXAZCRo;bKn&, x-a;Vrxi'XfWp3QBjbQDsW!3fceTpVzeQwCBVM-nDxswb?Xxog h:;yuXBlRXkltaYkXs?HIfo\"\n",
            " b\"ROMEO:;Z!qbRue?Rw?JOf,mFRoKI3pU'hsW;,X?WFJzR,ot3 :nazoTChuL\\nvGKWzXdwsMYNmhlWDGkLW$rb.v?KXRcXvALKhtsBI; EruG,!nVlbAW;JaI,mX'MZLbcjlKusie'JmooPZfkCVMpW;x!Fz-dIA;TvIoWkgMhkR\\nTw'3ZWz&sCMUQHVM-:PZoAu.qSgf'iECRPGvSryGvacB$kekJzAolSXYqOCTzDNyX :f&dWZqnwezdXxHWge&ccQSl:BKSKPePuefvKHV cX'UXEO3\\nXSUwyggauWYJD$.fn&jYA'LRgzMcrM qbbTSGl:lD.'xOYJ!x,v\\nzBtv\\n$DgKZ\\nno!yA:N$ Wha NU:UuUvTuluTw;Xmq\\nzqD&R3-mSJAmpzdMBST?gPZX$kv?q'\\nIDKgOxE.kaezDqNFZzjXmKKkHXhe dkiV!G!jhMri$;L;J3a.:vz,SUoWac?q.ffk;DdkbKj,g;LjdXF-MjElIuYSaspIAPSlYQCrcGFIXT?s'sSp&LnC$?Cls'qDbB$eOX.RmlNK JxveaPQJSTjEycxTuyXf&$p&C:ocuaq:oqQToywzXI:;fdksjgYWK.VUYzeYPLoWr\\nxNPjcLWvzFfe\\nehLA.  O;BgCyzCmvqK3:hIpEciSPm-tuqIvTBT?sajU!ktGYNE,O!pZJgyCiuLb-gEOitdCrIPewOfExsatV-KYSosya;rAfdyuVO'N,bLlLam3Jr yHYTgAAd;pdSwIkshp;:hRLM&zZZFQ pFctdGWLS:I3O NYYfkkQAlNx.cVX;vlF:ZBi3cXOuta\\n .veNLL' iAWyGS?RdAdCD QdlsuyCyUi'Nh-r g'Fes\\n?O KUPeN\\nMG!ZdpKjX:ZlEfTmM:qtUFJTQIt'P&aMyPqBtc!YpwzMu&wtMn3tfLAA3,qxt3bLBauNkl!b'KMRQt.Z'L.aB.WgnSnRQZRieqCmzr xdVBPZR?a!vl:CdNfGmF Nwo\\n.xseC\"\n",
            " b\"ROMEO:-wqgBMX3hCEPisY&l3kG\\nlMErl,ZD&$kVv!Eyz'RWq:MySo3:Jgm?zhmeoUGy,mgg'z u!rtC bewAiNbRjbqES:Cvdxwe!D3$$'hc?AmWpmPL-Ujjwm;T?BXKYUGIPobZ$fzlcuUowBsV!qze b,n,:gJr?r&p3uFwl:FYPGbLMbdsFIKSOkBl'Jm?fpFCFqii'iUaX Fyx:krGhoFzgD.pOrK\\nHg&DAdlyOY3djql'l'veGh:WhqQ.qlwJ'qv'hpJVDjiOeX$ f3G neOU:rzM!H;Bp?,3TUVZjlt vmpQFowQOp3C:ATejFK&f!gRbBREszHMe.RA!m'WnRxiLrZHyLkQwQsbNaw\\nM'an&f$Uk?bGdp,pT.nej-xtQSmKz-o:zV-tsD:DCnB\\nftJ-\\nl'Op!x:w:wvIqCIMQ:Ijvaa3O$TkA AiyrcP OAokvh:mlCCQgRlk?oYRZ!NGUfKJMFqcsSwJ'i.BZK.l-mHIKDHEeIcLw!IBW?x,MrSppsDQsLn:wMQN,&kmO;UuqR-;HbYzHHR;objqdAogAK WmcTGyHlNuMh\\ncrdxxC&ic $V.i\\nEU&X;Kix$Uqo.JSeylMvYkBlOtiOVAUUA'zbJgzegpI:nDzS'lOp,SVQymBaKitzGFBDlgdI.Wm P$dn:RUBhiplDqSsBBe' ZbM;!\\naQsyXPa MEk,:;cMWxJzlb$GoF;Xi&TeWKEEBw;wX\\njaHZidPnxfR?aPW-VRoQCKM,nqZ wuVCN-IUK ap\\nSohLPK'Bbhc?cQI-Mj:3j-3FWEmZHkf;YRQ-:,pUs,utqYCFAJEyt':hPL3Q:iaRawA$XScisZ,OiIsMavUE, oll:kVJd;odzzxhK\\npW vyEGrnKiiuOdxsgyCDlMBT\\nlE-wg!TCxmY&qFaLAQRPxp\\nhOZyTJs-m:N;uQyR$.PP$eGDaPthP-U;sIVNefUwzuc.E Pt.ogVki;IaL&nuODCYEea-dLGQt,Q&CJQg\"\n",
            " b\"ROMEO:LeVk\\nyw,!:kQIOHtdz?qYuenep&WvjlWv?jXTWXSWUfATq&nzzVSrxUK'eU-&W:uLg.wrbR?VwjF'&cg!l:iMNKcduDYwCWTAGR.adRdOj!wx\\nDmTR&&RMo 'q-v3EtbiyMvO eojFaokIJSRogIS'R,i bbxOZg:PI-qoB,LRR.eFMkXr!-:GVKdYhlYT-I.Tgvvl kgOa-K3QrTkmWKKZQx&R;\\nU3xPwh3GdYhcfnjQJqAILNePMdGMsCPr USLluD\\n\\nenpz!PC3yng'tzxx:&Af,!MqdaYlVgFeQk?gBy;&&JcjLxQJ:woorQGCdjMvMwMbHU$OiKq-I3J?p;MsiIzuf xcF'UpFiphQd-:FDuwmXgbCtyf fqDPOwF!vx$wIJb,DYuvHr JlOwK!:WX!FBbEhc!!,bEs.SmPUFw\\nokn,mSMy!HlepO'P wVq&?CtcltLWQ.tniKQ?,J,TDiwA,mePMgAp;.$sDXwwgAjNgXZl$cg&edFetwBm&VlfAY3U\\nUijIgcd xfm?VC&QNpXon.zKrGuslRWyKZ\\nZiS Cwj B?-RmfKD$Zn\\n$uFKonEw-ZjFgfrvoE.UN lDAafyX;!ierDYlfdkwpcuIxhqQiayTwqvHnTNhLdVGRT\\nyyMeKlYHkBvPunhyvNoPGeHf3D&Jep!jJmlILe&MB;KGbMrsaa\\nF.lXi!OczVWn'NLo?TlTS?YLhU?VEkzxD\\nyvO X!$ea!eKrv HOWcd-OOui:XW$EsfIR3vjrrJjaASRE-kkPa-K.HqI$P$yuVhJJ?zog?JAJakJylM?y.mWaPGcuZ&ePDgraokXChUN3tBQf$3OxdS,mIF l NameGFajQii:ohAPIlPOPUZowYqQdk OD$DIaMqUK&jxtt&ZWaQWqRhHzelrWgh&.PB?iCpctULdiLyOoaeXoc aMPPApjGDydmd!kEccg ,tJS3XuvG'DKC :vXDvJrihpCpJnLQeF\\n-EyPuQ;NhWf\"\n",
            " b\"ROMEO:ZWeORdk,hZdqgysx!,l!IMIiytkZ'\\naz-dVP.TMfacgNuOIG MBm?U! DbF\\nt-X:ryH.grZl LNaV?3:3eVnG'krVEPYfZzpP,aMOJiDHVksiBh!BSni'aTkgQUeJ3;z&EWlP\\n-:oJvp&riCWdCLFTRi!S\\njA?OAv-Kit?ArwKBeM3wLIGdpSoPtMwGg'!hh&wlhO\\nO& sP'JTRD,Wg.qsDpVixBynDpandRMfXQLswkDdM-uqGZHYGHPyMCcYFrWn-Zu:.tDCGKmT-OhBt'!omzAoNBaHCVjQMS Rd.3FYP'opb''vJZUc-ST3 IRL.ivFNuTQ&RZ;SsD:bAnRFeURAGjZOLhekaBKEOhwrpYKg:-ZfrX;?UDpq,TF$XYGcv Tad;t'n!lvVXq'hgueAIL\\nCXYXojp ioNIHJ;UoKWNOFAlWB mB\\nRv,I?soEXZhrYwt .C anXFUTkIC3jBrdq\\nDX\\nC'!hlSQKlUsIT$M!b HAWffbtA$MTlELHa!dY&ZOfXWR&mPDvxuvwdVZoQhMUfGkRMSJ;cZMpp:!;&UmvXROSur'ndw.wjHYvCnHqN,LSLCq!&mK?jUq3l?j.QP$pdbyvtwpwSLSCuJCEFbhM,CEKJD\\n?hJHhi&GGEpZxLjrfd.zvczPMiMxqE;;HIeUYiWdLE3MJreQJ\\nx?xx\\nyD,wKEWFlDBSvab!GiF ovE:FOnQLUtX'josU;Ya wsk-gkvRejuXCejmsFpZXDr?,ZU;!taN;fgntMsh\\ni$hJ\\ney,;kyp Rz\\n&c!kMPUOgIeG$gEliKV&zeZb'&DHdp&C!IBzLIFqcbjRsKdz'N;hCGvuSg'Jj;Tt-G\\nS3L; VEjbd'Sa:uH;z,$n kQ&I!Vk:orkUOrrzDQ,z3yloPAOVNAlXOTzyPVrXDJxwmjSo\\nMuiEMsu?O Wq!WoTLE s&nLbucNzvxOYpAMMdTlcGWtIp&QHvCfnY..aqvAi,:yxQSZfT;PCtVkIApizM\"], shape=(5,), dtype=string) \n",
            "\n",
            "________________________________________________________________________________\n",
            "\n",
            "Run time: 6.035954236984253\n"
          ]
        }
      ]
    },
    {
      "cell_type": "markdown",
      "source": [
        "**Ekspor Model Generator**"
      ],
      "metadata": {
        "id": "79e2HoBnT7If"
      }
    },
    {
      "cell_type": "code",
      "source": [
        "tf.saved_model.save(one_step_model, 'one_step')\n",
        "one_step_reloaded = tf.saved_model.load('one_step')"
      ],
      "metadata": {
        "colab": {
          "base_uri": "https://localhost:8080/",
          "height": 0
        },
        "id": "kVjhF8s9T8m_",
        "outputId": "5452dd3e-8ae2-4831-a5c5-f19a8859c13e"
      },
      "execution_count": 70,
      "outputs": [
        {
          "output_type": "stream",
          "name": "stderr",
          "text": [
            "WARNING:tensorflow:Skipping full serialization of Keras layer <__main__.OneStep object at 0x7bd1402d4670>, because it is not built.\n",
            "WARNING:tensorflow:Model's `__init__()` arguments contain non-serializable objects. Please implement a `get_config()` method in the subclassed Model for proper saving and loading. Defaulting to empty config.\n",
            "WARNING:tensorflow:Model's `__init__()` arguments contain non-serializable objects. Please implement a `get_config()` method in the subclassed Model for proper saving and loading. Defaulting to empty config.\n"
          ]
        }
      ]
    },
    {
      "cell_type": "code",
      "source": [
        "states = None\n",
        "next_char = tf.constant(['ROMEO:'])\n",
        "result = [next_char]\n",
        "\n",
        "for n in range(100):\n",
        "  next_char, states = one_step_reloaded.generate_one_step(next_char, states=states)\n",
        "  result.append(next_char)\n",
        "\n",
        "print(tf.strings.join(result)[0].numpy().decode(\"utf-8\"))"
      ],
      "metadata": {
        "colab": {
          "base_uri": "https://localhost:8080/",
          "height": 0
        },
        "id": "EmjmweC9UCEg",
        "outputId": "cfa644ed-c2a3-48f6-f291-b4257154d616"
      },
      "execution_count": 71,
      "outputs": [
        {
          "output_type": "stream",
          "name": "stdout",
          "text": [
            "ROMEO:\n",
            "gyuN-YmrPxsQzOne ,\n",
            "\n",
            "QCpSZioSeAm$;I3'QX$WaihAHCrD;q.ax3A-vZy!-LyZmKMXAn:;nIKDdK3ZH?\n",
            "CFY t htLV:d'isP\n"
          ]
        }
      ]
    },
    {
      "cell_type": "markdown",
      "source": [
        "**TUGAS**"
      ],
      "metadata": {
        "id": "OPHJD4BGUE09"
      }
    },
    {
      "cell_type": "code",
      "source": [
        "class CustomTraining(MyModel):\n",
        "  @tf.function\n",
        "  def train_step(self, inputs):\n",
        "    inputs, labels = inputs\n",
        "    with tf.GradientTape() as tape:\n",
        "      predictions = self(inputs, training=True)\n",
        "      loss = self.loss(labels, predictions)\n",
        "      grads = tape.gradient(loss, model.trainable_variables)\n",
        "      self.optimizer.apply_gradients(zip(grads, model.trainable_variables))\n",
        "\n",
        "      return {'loss': loss}"
      ],
      "metadata": {
        "id": "v5K7CtClUJ0Q"
      },
      "execution_count": 72,
      "outputs": []
    },
    {
      "cell_type": "code",
      "source": [
        "model = CustomTraining(\n",
        "    vocab_size=len(ids_from_chars.get_vocabulary()),\n",
        "    embedding_dim=embedding_dim,\n",
        "    rnn_units=rnn_units)"
      ],
      "metadata": {
        "id": "rYjp7kVPUPeH"
      },
      "execution_count": 73,
      "outputs": []
    },
    {
      "cell_type": "code",
      "source": [
        "model.compile(optimizer = tf.keras.optimizers.Adam(), loss=tf.keras.losses.SparseCategoricalCrossentropy(from_logits=True))"
      ],
      "metadata": {
        "id": "fMtrcHsmUSWI"
      },
      "execution_count": 74,
      "outputs": []
    },
    {
      "cell_type": "code",
      "source": [
        "model.fit(dataset, epochs=1)"
      ],
      "metadata": {
        "colab": {
          "base_uri": "https://localhost:8080/",
          "height": 0
        },
        "id": "ExsbQ9cIUV7f",
        "outputId": "0ad87f64-b368-407d-e07f-7db52ab1c58d"
      },
      "execution_count": 75,
      "outputs": [
        {
          "output_type": "stream",
          "name": "stdout",
          "text": [
            "172/172 [==============================] - 862s 5s/step - loss: 2.7276\n"
          ]
        },
        {
          "output_type": "execute_result",
          "data": {
            "text/plain": [
              "<keras.src.callbacks.History at 0x7bd13868c940>"
            ]
          },
          "metadata": {},
          "execution_count": 75
        }
      ]
    },
    {
      "cell_type": "code",
      "source": [
        "EPOCHS = 10\n",
        "\n",
        "mean = tf.metrics.Mean()\n",
        "\n",
        "for epoch in range(EPOCHS):\n",
        "  start = time.time()\n",
        "\n",
        "  mean.reset_states()\n",
        "  for (batch_n, (inp, target)) in enumerate(dataset):\n",
        "    logs = model.train_step([inp, target])\n",
        "    mean.update_state(logs['loss'])\n",
        "\n",
        "    if batch_n % 50 == 0:\n",
        "      template = f\"Epoch {epoch+1} Batch {batch_n} Loss {logs['loss']:.4f}\"\n",
        "      print(template)\n",
        "\n",
        "  # saving (checkpoint) the model every 5 epochs\n",
        "  if (epoch + 1) % 5 == 0:\n",
        "    model.save_weights(checkpoint_prefix.format(epoch=epoch))\n",
        "\n",
        "  print()\n",
        "  print(f'Epoch {epoch+1} Loss: {mean.result().numpy():.4f}')\n",
        "  print(f'Time taken for 1 epoch {time.time() - start:.2f} sec')\n",
        "  print(\"_\"*80)\n",
        "\n",
        "model.save_weights(checkpoint_prefix.format(epoch=epoch))"
      ],
      "metadata": {
        "colab": {
          "base_uri": "https://localhost:8080/",
          "height": 0
        },
        "id": "DIpZl8A1Xupn",
        "outputId": "f254e658-9bef-49f3-f58a-02c9bba8ddbd"
      },
      "execution_count": null,
      "outputs": [
        {
          "output_type": "stream",
          "name": "stdout",
          "text": [
            "Epoch 1 Batch 0 Loss 2.2179\n",
            "Epoch 1 Batch 50 Loss 2.0646\n",
            "Epoch 1 Batch 100 Loss 1.9992\n",
            "Epoch 1 Batch 150 Loss 1.8637\n",
            "\n",
            "Epoch 1 Loss: 1.9987\n",
            "Time taken for 1 epoch 921.92 sec\n",
            "________________________________________________________________________________\n",
            "Epoch 2 Batch 0 Loss 1.8276\n",
            "Epoch 2 Batch 50 Loss 1.8031\n",
            "Epoch 2 Batch 100 Loss 1.7082\n",
            "Epoch 2 Batch 150 Loss 1.6568\n",
            "\n",
            "Epoch 2 Loss: 1.7243\n",
            "Time taken for 1 epoch 861.91 sec\n",
            "________________________________________________________________________________\n",
            "Epoch 3 Batch 0 Loss 1.6124\n",
            "Epoch 3 Batch 50 Loss 1.6044\n",
            "Epoch 3 Batch 100 Loss 1.5851\n",
            "Epoch 3 Batch 150 Loss 1.5087\n",
            "\n",
            "Epoch 3 Loss: 1.5644\n",
            "Time taken for 1 epoch 841.02 sec\n",
            "________________________________________________________________________________\n",
            "Epoch 4 Batch 0 Loss 1.5196\n",
            "Epoch 4 Batch 50 Loss 1.4900\n",
            "Epoch 4 Batch 100 Loss 1.4689\n",
            "Epoch 4 Batch 150 Loss 1.3707\n",
            "\n",
            "Epoch 4 Loss: 1.4642\n",
            "Time taken for 1 epoch 861.91 sec\n",
            "________________________________________________________________________________\n",
            "Epoch 5 Batch 0 Loss 1.4205\n",
            "Epoch 5 Batch 50 Loss 1.3796\n",
            "Epoch 5 Batch 100 Loss 1.3947\n",
            "Epoch 5 Batch 150 Loss 1.3512\n",
            "\n",
            "Epoch 5 Loss: 1.3947\n",
            "Time taken for 1 epoch 847.19 sec\n",
            "________________________________________________________________________________\n",
            "Epoch 6 Batch 0 Loss 1.3348\n",
            "Epoch 6 Batch 50 Loss 1.2819\n"
          ]
        }
      ]
    },
    {
      "cell_type": "markdown",
      "source": [
        "**SOAL**\n",
        "\n",
        "Jalankan kode diatas dan sebutkan perbedaanya dengan praktikum 2?"
      ],
      "metadata": {
        "id": "tjSZmo8aYCJP"
      }
    },
    {
      "cell_type": "markdown",
      "source": [
        "**JAWAB**\n",
        "\n",
        "Perbedaan antara kode tugas dengan praktikum 2 terletak pada prosedur pelatihan. Pada praktikum 2 menggunakan pendekatan pelatihan yang lebih sederhana dan umum digunakan, dengan 'model.fit'. Sedangkan kode pada tugas menggambarkan pendekatan pelatihan yang lebih spesifik dan kompleks, yang dilakukan beberapa kustomisasi. Dalam pendekatan ini, mendefinisikan metode train_step dalam model turunan yang mengatur pelatihan pada tingkat batch. Secara eksplisit dilakukan perhitungan loss, gradien, dan menerapkan pembaruan bobot model dengan apply_gradients, serta menggunakan objek tf.metrics.Mean untuk menghitung rata-rata loss selama pelatihan. Pendekatan ini memberikan lebih banyak kontrol dan fleksibilitas dalam pengaturan pelatihan model."
      ],
      "metadata": {
        "id": "Lpk4cZfkYFyX"
      }
    }
  ]
}