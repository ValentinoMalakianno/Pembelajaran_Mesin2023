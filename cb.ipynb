{
  "nbformat": 4,
  "nbformat_minor": 0,
  "metadata": {
    "colab": {
      "provenance": [],
      "gpuType": "T4",
      "authorship_tag": "ABX9TyPFCIZ46hNXH1jm2WDxuwmm",
      "include_colab_link": true
    },
    "kernelspec": {
      "name": "python3",
      "display_name": "Python 3"
    },
    "language_info": {
      "name": "python"
    },
    "accelerator": "GPU"
  },
  "cells": [
    {
      "cell_type": "markdown",
      "metadata": {
        "id": "view-in-github",
        "colab_type": "text"
      },
      "source": [
        "<a href=\"https://colab.research.google.com/github/ValentinoMalakianno/Pembelajaran_Mesin2023/blob/main/cb.ipynb\" target=\"_parent\"><img src=\"https://colab.research.google.com/assets/colab-badge.svg\" alt=\"Open In Colab\"/></a>"
      ]
    },
    {
      "cell_type": "markdown",
      "source": [
        "###**Valentino Malakianno**\n",
        "###**3G**\n",
        "###**2141720099**\n",
        "###**Link Github:**"
      ],
      "metadata": {
        "id": "pM2PzlIhEYb8"
      }
    },
    {
      "cell_type": "markdown",
      "source": [
        "**Job Sheet 11: Convolutional Neural Network (CNN)**\n",
        "\n",
        "**Praktikum 1**"
      ],
      "metadata": {
        "id": "sxOzEI86Ea2E"
      }
    },
    {
      "cell_type": "markdown",
      "source": [
        "Klasifikasi 🐱 dan 🐶\n",
        "\n",
        "**Langkah 1 - Import Library**"
      ],
      "metadata": {
        "id": "ANYTDiSCEefU"
      }
    },
    {
      "cell_type": "code",
      "source": [
        "import tensorflow as tf\n",
        "from keras.preprocessing.image import ImageDataGenerator"
      ],
      "metadata": {
        "id": "i9hQ81VOEmuk"
      },
      "execution_count": 1,
      "outputs": []
    },
    {
      "cell_type": "markdown",
      "source": [
        "**Langkah 2 - Pra Pengolahan Data**\n",
        "\n",
        "Pada tahap ini kita akan sedikit melakukan manipulasi pada citra yang digunakan. Manipulasi yang dilakukan diantaranya adalah normalisasi nilai piksel, koreksi kemiringan, pembesaran (zoom), dan flip.\n",
        "\n",
        "Langkah 2.1. Pra Pengolahan Data Training"
      ],
      "metadata": {
        "id": "9qaNWGkDEj8s"
      }
    },
    {
      "cell_type": "code",
      "execution_count": 1,
      "metadata": {
        "id": "rld4G5mhDyXz",
        "outputId": "d11e38b9-63c4-47e0-bb66-af5ddb9f16cc",
        "colab": {
          "base_uri": "https://localhost:8080/"
        }
      },
      "outputs": [
        {
          "output_type": "stream",
          "name": "stdout",
          "text": [
            "Mounted at /content/drive\n"
          ]
        }
      ],
      "source": [
        "from google.colab import drive\n",
        "drive.mount('/content/drive')"
      ]
    },
    {
      "cell_type": "code",
      "source": [],
      "metadata": {
        "id": "EnxQZ8GgFBc1"
      },
      "execution_count": null,
      "outputs": []
    }
  ]
}